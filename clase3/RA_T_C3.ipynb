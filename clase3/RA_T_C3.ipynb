{
 "cells": [
  {
   "cell_type": "code",
   "execution_count": 1,
   "metadata": {
    "vscode": {
     "languageId": "r"
    }
   },
   "outputs": [
    {
     "name": "stderr",
     "output_type": "stream",
     "text": [
      "The legacy packages maptools, rgdal, and rgeos, underpinning this package\n",
      "will retire shortly. Please refer to R-spatial evolution reports on\n",
      "https://r-spatial.org/r/2023/05/15/evolution4.html for details.\n",
      "This package is now running under evolution status 0 \n",
      "\n",
      "Loading required package: Matrix\n",
      "\n",
      "Loaded glmnet 4.1-7\n",
      "\n",
      "\n",
      "Attaching package: 'pls'\n",
      "\n",
      "\n",
      "The following object is masked from 'package:stats':\n",
      "\n",
      "    loadings\n",
      "\n",
      "\n",
      "Loading required package: ggplot2\n",
      "\n"
     ]
    },
    {
     "data": {
      "text/plain": [
       "Subset selection object\n",
       "Call: regsubsets.formula(Sales ~ ., Carseats, nvmax = 10)\n",
       "11 Variables  (and intercept)\n",
       "                Forced in Forced out\n",
       "CompPrice           FALSE      FALSE\n",
       "Income              FALSE      FALSE\n",
       "Advertising         FALSE      FALSE\n",
       "Population          FALSE      FALSE\n",
       "Price               FALSE      FALSE\n",
       "ShelveLocGood       FALSE      FALSE\n",
       "ShelveLocMedium     FALSE      FALSE\n",
       "Age                 FALSE      FALSE\n",
       "Education           FALSE      FALSE\n",
       "UrbanYes            FALSE      FALSE\n",
       "USYes               FALSE      FALSE\n",
       "1 subsets of each size up to 10\n",
       "Selection Algorithm: exhaustive\n",
       "          CompPrice Income Advertising Population Price ShelveLocGood\n",
       "1  ( 1 )  \" \"       \" \"    \" \"         \" \"        \" \"   \"*\"          \n",
       "2  ( 1 )  \" \"       \" \"    \" \"         \" \"        \"*\"   \"*\"          \n",
       "3  ( 1 )  \"*\"       \" \"    \" \"         \" \"        \"*\"   \"*\"          \n",
       "4  ( 1 )  \"*\"       \" \"    \"*\"         \" \"        \"*\"   \"*\"          \n",
       "5  ( 1 )  \"*\"       \" \"    \"*\"         \" \"        \"*\"   \"*\"          \n",
       "6  ( 1 )  \"*\"       \" \"    \"*\"         \" \"        \"*\"   \"*\"          \n",
       "7  ( 1 )  \"*\"       \"*\"    \"*\"         \" \"        \"*\"   \"*\"          \n",
       "8  ( 1 )  \"*\"       \"*\"    \"*\"         \" \"        \"*\"   \"*\"          \n",
       "9  ( 1 )  \"*\"       \"*\"    \"*\"         \" \"        \"*\"   \"*\"          \n",
       "10  ( 1 ) \"*\"       \"*\"    \"*\"         \" \"        \"*\"   \"*\"          \n",
       "          ShelveLocMedium Age Education UrbanYes USYes\n",
       "1  ( 1 )  \" \"             \" \" \" \"       \" \"      \" \"  \n",
       "2  ( 1 )  \" \"             \" \" \" \"       \" \"      \" \"  \n",
       "3  ( 1 )  \" \"             \" \" \" \"       \" \"      \" \"  \n",
       "4  ( 1 )  \" \"             \" \" \" \"       \" \"      \" \"  \n",
       "5  ( 1 )  \"*\"             \" \" \" \"       \" \"      \" \"  \n",
       "6  ( 1 )  \"*\"             \"*\" \" \"       \" \"      \" \"  \n",
       "7  ( 1 )  \"*\"             \"*\" \" \"       \" \"      \" \"  \n",
       "8  ( 1 )  \"*\"             \"*\" \" \"       \" \"      \"*\"  \n",
       "9  ( 1 )  \"*\"             \"*\" \"*\"       \" \"      \"*\"  \n",
       "10  ( 1 ) \"*\"             \"*\" \"*\"       \"*\"      \"*\"  "
      ]
     },
     "metadata": {},
     "output_type": "display_data"
    }
   ],
   "source": [
    "library(leaps)\n",
    "library(sp)\n",
    "library(glmnet)\n",
    "library(pls)\n",
    "library(ISLR)\n",
    "library(ggpubr)\n",
    "\n",
    "# consideramos todos los modelos hasta 10 predictoras\n",
    "regfit.todos <- regsubsets( Sales ~ ., Carseats, nvmax = 10 )\n",
    "reg.summary <- summary( regfit.todos )\n",
    "reg.summary"
   ]
  },
  {
   "cell_type": "code",
   "execution_count": 3,
   "metadata": {
    "vscode": {
     "languageId": "r"
    }
   },
   "outputs": [
    {
     "data": {
      "text/html": [],
      "text/latex": [],
      "text/markdown": [],
      "text/plain": [
       "integer(0)"
      ]
     },
     "metadata": {},
     "output_type": "display_data"
    }
   ],
   "source": [
    "# definimos puntos óptimos para c/ criterio, guardamos su posición\n",
    "max_adjr2 = which.max(reg.summary$adjr2)\n",
    "\n",
    "min_cp=which.min(reg.summary$cp)\n",
    "\n",
    "min_bic=which.min(reg.summary$bic)\n",
    "\n",
    "which.min(reg.summary$aic)\n",
    "\n",
    "sal_reg=data.frame(orden=1:10,adjr2=reg.summary$rsq,Cp=reg.summary$cp,Bic=reg.summary$bic)"
   ]
  },
  {
   "cell_type": "code",
   "execution_count": 3,
   "metadata": {
    "vscode": {
     "languageId": "r"
    }
   },
   "outputs": [
    {
     "data": {
      "image/png": "[encoded data removed]",
      "text/plain": [
       "plot without title"
      ]
     },
     "metadata": {
      "image/png": {
       "height": 420,
       "width": 420
      }
     },
     "output_type": "display_data"
    }
   ],
   "source": [
    "# graficamos los valores de c/ criterio en función de la cantidad de predictores\n",
    "pl1 <- ggplot( sal_reg, aes( orden,adjr2 ) ) +\n",
    "        geom_point( size=2, col=\"darkblue\" ) +\n",
    "    theme_bw() +\n",
    "    xlab( \"cantidad de predictores\" ) +\n",
    "    ylab( \"R-2ajust\" ) +\n",
    "        geom_point( aes( max_adjr2, reg.summary$adjr2[max_adjr2] ),\n",
    "            size=3,\n",
    "            color=\"coral\" )\n",
    "\n",
    "pl2 <- ggplot( sal_reg,aes(orden,Cp) ) +\n",
    "        geom_point( size=2, col=\"darkblue\" ) +\n",
    "    theme_bw() +\n",
    "    xlab( \"cantidad de predictores\" ) +\n",
    "    ylab( \"Cp\" ) +\n",
    "        geom_point( aes( min_cp,reg.summary$cp[min_cp] ), \n",
    "        size=3, \n",
    "        color=\"coral\" )\n",
    "\n",
    "pl3 <- ggplot( sal_reg, aes(orden,Bic) ) +\n",
    "        geom_point( size=2, col=\"darkblue\" ) +\n",
    "    theme_bw() +\n",
    "    xlab( \"cantidad de predictores\" ) +\n",
    "    ylab( \"BIC\" ) +\n",
    "        geom_point( aes( min_bic, reg.summary$bic[min_bic] ), \n",
    "        size=3,\n",
    "        color=\"coral\" )\n",
    "\n",
    "ggarrange( pl1, pl2, pl3, ncol=1 )"
   ]
  },
  {
   "cell_type": "code",
   "execution_count": 8,
   "metadata": {
    "vscode": {
     "languageId": "r"
    }
   },
   "outputs": [
    {
     "data": {
      "text/html": [
       "<table class=\"dataframe\">\n",
       "<caption>A data.frame: 8 × 1</caption>\n",
       "<thead>\n",
       "\t<tr><th></th><th scope=col>coef(regfit.todos, 7)</th></tr>\n",
       "\t<tr><th></th><th scope=col>&lt;dbl&gt;</th></tr>\n",
       "</thead>\n",
       "<tbody>\n",
       "\t<tr><th scope=row>(Intercept)</th><td> 5.47522623</td></tr>\n",
       "\t<tr><th scope=row>CompPrice</th><td> 0.09257147</td></tr>\n",
       "\t<tr><th scope=row>Income</th><td> 0.01578497</td></tr>\n",
       "\t<tr><th scope=row>Advertising</th><td> 0.11590340</td></tr>\n",
       "\t<tr><th scope=row>Price</th><td>-0.09531895</td></tr>\n",
       "\t<tr><th scope=row>ShelveLocGood</th><td> 4.83567475</td></tr>\n",
       "\t<tr><th scope=row>ShelveLocMedium</th><td> 1.95199266</td></tr>\n",
       "\t<tr><th scope=row>Age</th><td>-0.04612752</td></tr>\n",
       "</tbody>\n",
       "</table>\n"
      ],
      "text/latex": [
       "A data.frame: 8 × 1\n",
       "\\begin{tabular}{r|l}\n",
       "  & coef(regfit.todos, 7)\\\\\n",
       "  & <dbl>\\\\\n",
       "\\hline\n",
       "\t(Intercept) &  5.47522623\\\\\n",
       "\tCompPrice &  0.09257147\\\\\n",
       "\tIncome &  0.01578497\\\\\n",
       "\tAdvertising &  0.11590340\\\\\n",
       "\tPrice & -0.09531895\\\\\n",
       "\tShelveLocGood &  4.83567475\\\\\n",
       "\tShelveLocMedium &  1.95199266\\\\\n",
       "\tAge & -0.04612752\\\\\n",
       "\\end{tabular}\n"
      ],
      "text/markdown": [
       "\n",
       "A data.frame: 8 × 1\n",
       "\n",
       "| <!--/--> | coef(regfit.todos, 7) &lt;dbl&gt; |\n",
       "|---|---|\n",
       "| (Intercept) |  5.47522623 |\n",
       "| CompPrice |  0.09257147 |\n",
       "| Income |  0.01578497 |\n",
       "| Advertising |  0.11590340 |\n",
       "| Price | -0.09531895 |\n",
       "| ShelveLocGood |  4.83567475 |\n",
       "| ShelveLocMedium |  1.95199266 |\n",
       "| Age | -0.04612752 |\n",
       "\n"
      ],
      "text/plain": [
       "                coef(regfit.todos, 7)\n",
       "(Intercept)      5.47522623          \n",
       "CompPrice        0.09257147          \n",
       "Income           0.01578497          \n",
       "Advertising      0.11590340          \n",
       "Price           -0.09531895          \n",
       "ShelveLocGood    4.83567475          \n",
       "ShelveLocMedium  1.95199266          \n",
       "Age             -0.04612752          "
      ]
     },
     "metadata": {},
     "output_type": "display_data"
    }
   ],
   "source": [
    "# buscamos los coeficientes del modelo con 7 predictores\n",
    "as.data.frame(  coef( regfit.todos, 7 ) )"
   ]
  },
  {
   "cell_type": "code",
   "execution_count": 2,
   "metadata": {
    "vscode": {
     "languageId": "r"
    }
   },
   "outputs": [
    {
     "data": {
      "text/html": [
       "<style>\n",
       ".list-inline {list-style: none; margin:0; padding: 0}\n",
       ".list-inline>li {display: inline-block}\n",
       ".list-inline>li:not(:last-child)::after {content: \"\\00b7\"; padding: 0 .5ex}\n",
       "</style>\n",
       "<ol class=list-inline><li>320</li><li>11</li></ol>\n"
      ],
      "text/latex": [
       "\\begin{enumerate*}\n",
       "\\item 320\n",
       "\\item 11\n",
       "\\end{enumerate*}\n"
      ],
      "text/markdown": [
       "1. 320\n",
       "2. 11\n",
       "\n",
       "\n"
      ],
      "text/plain": [
       "[1] 320  11"
      ]
     },
     "metadata": {},
     "output_type": "display_data"
    },
    {
     "data": {
      "text/html": [
       "<style>\n",
       ".list-inline {list-style: none; margin:0; padding: 0}\n",
       ".list-inline>li {display: inline-block}\n",
       ".list-inline>li:not(:last-child)::after {content: \"\\00b7\"; padding: 0 .5ex}\n",
       "</style>\n",
       "<ol class=list-inline><li>80</li><li>11</li></ol>\n"
      ],
      "text/latex": [
       "\\begin{enumerate*}\n",
       "\\item 80\n",
       "\\item 11\n",
       "\\end{enumerate*}\n"
      ],
      "text/markdown": [
       "1. 80\n",
       "2. 11\n",
       "\n",
       "\n"
      ],
      "text/plain": [
       "[1] 80 11"
      ]
     },
     "metadata": {},
     "output_type": "display_data"
    }
   ],
   "source": [
    "# fijamos una semilla y elegimos un 80% de los datos para entrenar el modelo y el 20% para validarlo\n",
    "set.seed(1123)\n",
    "n = nrow(Carseats)\n",
    "index = sample(n, n*0.80, replace = FALSE)\n",
    "train_set = Carseats[index,]\n",
    "dim(train_set)\n",
    "test_set = Carseats[-index,]\n",
    "dim(test_set)\n",
    "# modelo completo con todas las variables\n",
    "model_full = lm(Sales ~ ., data = train_set)\n",
    "# modelo s´olo con intercepto\n",
    "model_int = lm(Sales ~ ., data = train_set)"
   ]
  },
  {
   "attachments": {},
   "cell_type": "markdown",
   "metadata": {},
   "source": [
    "### Fordward"
   ]
  },
  {
   "cell_type": "code",
   "execution_count": 3,
   "metadata": {
    "vscode": {
     "languageId": "r"
    }
   },
   "outputs": [
    {
     "data": {
      "text/plain": [
       "Sales ~ CompPrice + Income + Advertising + Population + Price + \n",
       "    ShelveLoc + Age + Education + Urban + US"
      ]
     },
     "metadata": {},
     "output_type": "display_data"
    },
    {
     "name": "stdout",
     "output_type": "stream",
     "text": [
      "Start:  AIC=17.35\n",
      "Sales ~ CompPrice + Income + Advertising + Population + Price + \n",
      "    ShelveLoc + Age + Education + Urban + US\n",
      "\n"
     ]
    },
    {
     "data": {
      "text/plain": [
       "\n",
       "Call:\n",
       "lm(formula = Sales ~ CompPrice + Income + Advertising + Population + \n",
       "    Price + ShelveLoc + Age + Education + Urban + US, data = train_set)\n",
       "\n",
       "Residuals:\n",
       "     Min       1Q   Median       3Q      Max \n",
       "-2.85113 -0.72879  0.03737  0.69352  2.59430 \n",
       "\n",
       "Coefficients:\n",
       "                  Estimate Std. Error t value Pr(>|t|)    \n",
       "(Intercept)      5.761e+00  6.767e-01   8.513 7.56e-16 ***\n",
       "CompPrice        9.433e-02  4.628e-03  20.383  < 2e-16 ***\n",
       "Income           1.564e-02  2.052e-03   7.623 3.10e-13 ***\n",
       "Advertising      1.300e-01  1.250e-02  10.403  < 2e-16 ***\n",
       "Population      -4.357e-05  4.192e-04  -0.104   0.9173    \n",
       "Price           -9.406e-02  2.945e-03 -31.944  < 2e-16 ***\n",
       "ShelveLocGood    4.835e+00  1.685e-01  28.699  < 2e-16 ***\n",
       "ShelveLocMedium  1.927e+00  1.425e-01  13.525  < 2e-16 ***\n",
       "Age             -4.516e-02  3.460e-03 -13.054  < 2e-16 ***\n",
       "Education       -3.797e-02  2.188e-02  -1.735   0.0837 .  \n",
       "UrbanYes         2.914e-02  1.259e-01   0.231   0.8172    \n",
       "USYes           -4.275e-01  1.679e-01  -2.546   0.0114 *  \n",
       "---\n",
       "Signif. codes:  0 '***' 0.001 '**' 0.01 '*' 0.05 '.' 0.1 ' ' 1\n",
       "\n",
       "Residual standard error: 1.009 on 308 degrees of freedom\n",
       "Multiple R-squared:  0.8775,\tAdjusted R-squared:  0.8731 \n",
       "F-statistic: 200.6 on 11 and 308 DF,  p-value: < 2.2e-16\n"
      ]
     },
     "metadata": {},
     "output_type": "display_data"
    }
   ],
   "source": [
    "scopeformula = formula( model_full )\n",
    "scopeformula\n",
    "fwd_sel = step( object=model_int, scope=scopeformula, direction=\"forward\" )\n",
    "summary( fwd_sel )\n",
    "FwdSelection_AIC = AIC( fwd_sel )"
   ]
  },
  {
   "attachments": {},
   "cell_type": "markdown",
   "metadata": {},
   "source": [
    "### Backwards"
   ]
  },
  {
   "cell_type": "code",
   "execution_count": 20,
   "metadata": {
    "vscode": {
     "languageId": "r"
    }
   },
   "outputs": [
    {
     "name": "stdout",
     "output_type": "stream",
     "text": [
      "Start:  AIC=17.35\n",
      "Sales ~ CompPrice + Income + Advertising + Population + Price + \n",
      "    ShelveLoc + Age + Education + Urban + US\n",
      "\n",
      "              Df Sum of Sq     RSS    AIC\n",
      "- Population   1      0.01  313.43  15.37\n",
      "- Urban        1      0.05  313.48  15.41\n",
      "<none>                      313.42  17.35\n",
      "- Education    1      3.06  316.49  18.47\n",
      "- US           1      6.60  320.02  22.02\n",
      "- Income       1     59.13  372.55  70.66\n",
      "- Advertising  1    110.12  423.54 111.70\n",
      "- Age          1    173.40  486.82 156.26\n",
      "- CompPrice    1    422.79  736.21 288.62\n",
      "- ShelveLoc    2    857.92 1171.34 435.23\n",
      "- Price        1   1038.40 1351.82 483.08\n",
      "\n",
      "Step:  AIC=15.37\n",
      "Sales ~ CompPrice + Income + Advertising + Price + ShelveLoc + \n",
      "    Age + Education + Urban + US\n",
      "\n",
      "              Df Sum of Sq     RSS    AIC\n",
      "- Urban        1      0.06  313.49  13.43\n",
      "<none>                      313.43  15.37\n",
      "- Education    1      3.08  316.51  16.49\n",
      "- US           1      6.81  320.25  20.25\n",
      "- Income       1     59.22  372.66  68.75\n",
      "- Advertising  1    122.49  435.92 118.93\n",
      "- Age          1    173.46  486.89 154.31\n",
      "- CompPrice    1    425.99  739.42 288.02\n",
      "- ShelveLoc    2    860.74 1174.17 434.00\n",
      "- Price        1   1042.23 1355.67 481.99\n",
      "\n",
      "Step:  AIC=13.43\n",
      "Sales ~ CompPrice + Income + Advertising + Price + ShelveLoc + \n",
      "    Age + Education + US\n",
      "\n",
      "              Df Sum of Sq     RSS    AIC\n",
      "<none>                      313.49  13.43\n",
      "- Education    1      3.10  316.60  14.58\n",
      "- US           1      6.82  320.31  18.31\n",
      "- Income       1     59.29  372.78  66.85\n",
      "- Advertising  1    122.63  436.12 117.07\n",
      "- Age          1    173.63  487.12 152.46\n",
      "- CompPrice    1    427.35  740.85 286.63\n",
      "- ShelveLoc    2    872.38 1185.87 435.17\n",
      "- Price        1   1043.20 1356.70 480.24\n"
     ]
    },
    {
     "data": {
      "text/plain": [
       "\n",
       "Call:\n",
       "lm(formula = Sales ~ CompPrice + Income + Advertising + Price + \n",
       "    ShelveLoc + Age + Education + US, data = train_set)\n",
       "\n",
       "Residuals:\n",
       "     Min       1Q   Median       3Q      Max \n",
       "-2.84445 -0.71933  0.04001  0.70172  2.56364 \n",
       "\n",
       "Coefficients:\n",
       "                 Estimate Std. Error t value Pr(>|t|)    \n",
       "(Intercept)      5.753434   0.639369   8.999  < 2e-16 ***\n",
       "CompPrice        0.094424   0.004593  20.557  < 2e-16 ***\n",
       "Income           0.015657   0.002045   7.657 2.45e-13 ***\n",
       "Advertising      0.129627   0.011772  11.012  < 2e-16 ***\n",
       "Price           -0.094050   0.002928 -32.118  < 2e-16 ***\n",
       "ShelveLocGood    4.830131   0.166110  29.078  < 2e-16 ***\n",
       "ShelveLocMedium  1.923895   0.140567  13.687  < 2e-16 ***\n",
       "Age             -0.045104   0.003442 -13.103  < 2e-16 ***\n",
       "Education       -0.037797   0.021574  -1.752  0.08076 .  \n",
       "USYes           -0.423767   0.163209  -2.596  0.00987 ** \n",
       "---\n",
       "Signif. codes:  0 '***' 0.001 '**' 0.01 '*' 0.05 '.' 0.1 ' ' 1\n",
       "\n",
       "Residual standard error: 1.006 on 310 degrees of freedom\n",
       "Multiple R-squared:  0.8775,\tAdjusted R-squared:  0.8739 \n",
       "F-statistic: 246.7 on 9 and 310 DF,  p-value: < 2.2e-16\n"
      ]
     },
     "metadata": {},
     "output_type": "display_data"
    },
    {
     "data": {
      "text/html": [
       "923.546938427304"
      ],
      "text/latex": [
       "923.546938427304"
      ],
      "text/markdown": [
       "923.546938427304"
      ],
      "text/plain": [
       "[1] 923.5469"
      ]
     },
     "metadata": {},
     "output_type": "display_data"
    }
   ],
   "source": [
    "model_full = lm( Sales ~ ., data = train_set )\n",
    "scopeformula = formula( model_full )\n",
    "back_sel = step( object=model_full, scope=scopeformula, direction=\"backward\" )\n",
    "summary( back_sel )\n",
    "BackSelection_AIC = AIC( back_sel )\n",
    "BackSelection_AIC"
   ]
  },
  {
   "attachments": {},
   "cell_type": "markdown",
   "metadata": {},
   "source": [
    "### Stepwise"
   ]
  },
  {
   "cell_type": "code",
   "execution_count": 23,
   "metadata": {
    "vscode": {
     "languageId": "r"
    }
   },
   "outputs": [
    {
     "name": "stdout",
     "output_type": "stream",
     "text": [
      "Start:  AIC=17.35\n",
      "Sales ~ CompPrice + Income + Advertising + Population + Price + \n",
      "    ShelveLoc + Age + Education + Urban + US\n",
      "\n",
      "              Df Sum of Sq     RSS    AIC\n",
      "- Population   1      0.01  313.43  15.37\n",
      "- Urban        1      0.05  313.48  15.41\n",
      "<none>                      313.42  17.35\n",
      "- Education    1      3.06  316.49  18.47\n",
      "- US           1      6.60  320.02  22.02\n",
      "- Income       1     59.13  372.55  70.66\n",
      "- Advertising  1    110.12  423.54 111.70\n",
      "- Age          1    173.40  486.82 156.26\n",
      "- CompPrice    1    422.79  736.21 288.62\n",
      "- ShelveLoc    2    857.92 1171.34 435.23\n",
      "- Price        1   1038.40 1351.82 483.08\n",
      "\n",
      "Step:  AIC=15.37\n",
      "Sales ~ CompPrice + Income + Advertising + Price + ShelveLoc + \n",
      "    Age + Education + Urban + US\n",
      "\n",
      "              Df Sum of Sq     RSS    AIC\n",
      "- Urban        1      0.06  313.49  13.43\n",
      "<none>                      313.43  15.37\n",
      "- Education    1      3.08  316.51  16.49\n",
      "+ Population   1      0.01  313.42  17.35\n",
      "- US           1      6.81  320.25  20.25\n",
      "- Income       1     59.22  372.66  68.75\n",
      "- Advertising  1    122.49  435.92 118.93\n",
      "- Age          1    173.46  486.89 154.31\n",
      "- CompPrice    1    425.99  739.42 288.02\n",
      "- ShelveLoc    2    860.74 1174.17 434.00\n",
      "- Price        1   1042.23 1355.67 481.99\n",
      "\n",
      "Step:  AIC=13.43\n",
      "Sales ~ CompPrice + Income + Advertising + Price + ShelveLoc + \n",
      "    Age + Education + US\n",
      "\n",
      "              Df Sum of Sq     RSS    AIC\n",
      "<none>                      313.49  13.43\n",
      "- Education    1      3.10  316.60  14.58\n",
      "+ Urban        1      0.06  313.43  15.37\n",
      "+ Population   1      0.02  313.48  15.41\n",
      "- US           1      6.82  320.31  18.31\n",
      "- Income       1     59.29  372.78  66.85\n",
      "- Advertising  1    122.63  436.12 117.07\n",
      "- Age          1    173.63  487.12 152.46\n",
      "- CompPrice    1    427.35  740.85 286.63\n",
      "- ShelveLoc    2    872.38 1185.87 435.17\n",
      "- Price        1   1043.20 1356.70 480.24\n"
     ]
    },
    {
     "data": {
      "text/plain": [
       "\n",
       "Call:\n",
       "lm(formula = Sales ~ CompPrice + Income + Advertising + Price + \n",
       "    ShelveLoc + Age + Education + US, data = train_set)\n",
       "\n",
       "Residuals:\n",
       "     Min       1Q   Median       3Q      Max \n",
       "-2.84445 -0.71933  0.04001  0.70172  2.56364 \n",
       "\n",
       "Coefficients:\n",
       "                 Estimate Std. Error t value Pr(>|t|)    \n",
       "(Intercept)      5.753434   0.639369   8.999  < 2e-16 ***\n",
       "CompPrice        0.094424   0.004593  20.557  < 2e-16 ***\n",
       "Income           0.015657   0.002045   7.657 2.45e-13 ***\n",
       "Advertising      0.129627   0.011772  11.012  < 2e-16 ***\n",
       "Price           -0.094050   0.002928 -32.118  < 2e-16 ***\n",
       "ShelveLocGood    4.830131   0.166110  29.078  < 2e-16 ***\n",
       "ShelveLocMedium  1.923895   0.140567  13.687  < 2e-16 ***\n",
       "Age             -0.045104   0.003442 -13.103  < 2e-16 ***\n",
       "Education       -0.037797   0.021574  -1.752  0.08076 .  \n",
       "USYes           -0.423767   0.163209  -2.596  0.00987 ** \n",
       "---\n",
       "Signif. codes:  0 '***' 0.001 '**' 0.01 '*' 0.05 '.' 0.1 ' ' 1\n",
       "\n",
       "Residual standard error: 1.006 on 310 degrees of freedom\n",
       "Multiple R-squared:  0.8775,\tAdjusted R-squared:  0.8739 \n",
       "F-statistic: 246.7 on 9 and 310 DF,  p-value: < 2.2e-16\n"
      ]
     },
     "metadata": {},
     "output_type": "display_data"
    },
    {
     "data": {
      "text/html": [
       "923.546938427304"
      ],
      "text/latex": [
       "923.546938427304"
      ],
      "text/markdown": [
       "923.546938427304"
      ],
      "text/plain": [
       "[1] 923.5469"
      ]
     },
     "metadata": {},
     "output_type": "display_data"
    },
    {
     "data": {
      "text/html": [
       "<table class=\"dataframe\">\n",
       "<caption>A data.frame: 1 × 3</caption>\n",
       "<thead>\n",
       "\t<tr><th></th><th scope=col>FwdSelection</th><th scope=col>BackSelection</th><th scope=col>BidirSelection</th></tr>\n",
       "\t<tr><th></th><th scope=col>&lt;dbl&gt;</th><th scope=col>&lt;dbl&gt;</th><th scope=col>&lt;dbl&gt;</th></tr>\n",
       "</thead>\n",
       "<tbody>\n",
       "\t<tr><th scope=row>AIC</th><td>927.4745</td><td>923.5469</td><td>923.5469</td></tr>\n",
       "</tbody>\n",
       "</table>\n"
      ],
      "text/latex": [
       "A data.frame: 1 × 3\n",
       "\\begin{tabular}{r|lll}\n",
       "  & FwdSelection & BackSelection & BidirSelection\\\\\n",
       "  & <dbl> & <dbl> & <dbl>\\\\\n",
       "\\hline\n",
       "\tAIC & 927.4745 & 923.5469 & 923.5469\\\\\n",
       "\\end{tabular}\n"
      ],
      "text/markdown": [
       "\n",
       "A data.frame: 1 × 3\n",
       "\n",
       "| <!--/--> | FwdSelection &lt;dbl&gt; | BackSelection &lt;dbl&gt; | BidirSelection &lt;dbl&gt; |\n",
       "|---|---|---|---|\n",
       "| AIC | 927.4745 | 923.5469 | 923.5469 |\n",
       "\n"
      ],
      "text/plain": [
       "    FwdSelection BackSelection BidirSelection\n",
       "AIC 927.4745     923.5469      923.5469      "
      ]
     },
     "metadata": {},
     "output_type": "display_data"
    }
   ],
   "source": [
    "both_sel = step( object=model_full, scope=scopeformula, direction=\"both\" )\n",
    "summary(both_sel)\n",
    "BidirSelection_AIC = AIC(both_sel)\n",
    "BidirSelection_AIC\n",
    "AIC_df = data.frame(FwdSelection=FwdSelection_AIC, BackSelection=BackSelection_AIC, BidirSelection=BidirSelection_AIC)\n",
    "rownames(AIC_df) = c(\"AIC\")\n",
    "AIC_df"
   ]
  }
 ],
 "metadata": {
  "kernelspec": {
   "display_name": "R",
   "language": "R",
   "name": "ir"
  },
  "language_info": {
   "codemirror_mode": "r",
   "file_extension": ".r",
   "mimetype": "text/x-r-source",
   "name": "R",
   "pygments_lexer": "r",
   "version": "4.2.3"
  },
  "orig_nbformat": 4
 },
 "nbformat": 4,
 "nbformat_minor": 2
}
