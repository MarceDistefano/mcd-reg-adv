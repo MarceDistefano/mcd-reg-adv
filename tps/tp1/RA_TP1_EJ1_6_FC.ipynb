{
 "cells": [
  {
   "attachments": {},
   "cell_type": "markdown",
   "metadata": {},
   "source": [
    "## Ejercicio 1.6"
   ]
  },
  {
   "attachments": {},
   "cell_type": "markdown",
   "metadata": {},
   "source": [
    "En la base estudio.xlsx se encuentran registradas las horas de estudios referidas por un conjunto de estudiantes y su calificación en la evaluación final."
   ]
  },
  {
   "cell_type": "code",
   "execution_count": 1,
   "metadata": {
    "vscode": {
     "languageId": "r"
    }
   },
   "outputs": [
    {
     "name": "stderr",
     "output_type": "stream",
     "text": [
      "\n",
      "Attaching package: 'dplyr'\n",
      "\n",
      "\n",
      "The following objects are masked from 'package:stats':\n",
      "\n",
      "    filter, lag\n",
      "\n",
      "\n",
      "The following objects are masked from 'package:base':\n",
      "\n",
      "    intersect, setdiff, setequal, union\n",
      "\n",
      "\n",
      "corrplot 0.92 loaded\n",
      "\n",
      "Loading required package: zoo\n",
      "\n",
      "\n",
      "Attaching package: 'zoo'\n",
      "\n",
      "\n",
      "The following objects are masked from 'package:base':\n",
      "\n",
      "    as.Date, as.Date.numeric\n",
      "\n",
      "\n",
      "Loading required package: carData\n",
      "\n",
      "\n",
      "Attaching package: 'car'\n",
      "\n",
      "\n",
      "The following object is masked from 'package:dplyr':\n",
      "\n",
      "    recode\n",
      "\n",
      "\n",
      "\n",
      "Attaching package: 'MASS'\n",
      "\n",
      "\n",
      "The following object is masked from 'package:dplyr':\n",
      "\n",
      "    select\n",
      "\n",
      "\n"
     ]
    }
   ],
   "source": [
    "library(readxl)\n",
    "library(ggplot2)\n",
    "library(dplyr)\n",
    "library(MVN)\n",
    "library(corrplot)\n",
    "library(aod)\n",
    "library(lmtest)\n",
    "library(car)\n",
    "library(MASS)"
   ]
  },
  {
   "cell_type": "code",
   "execution_count": 2,
   "metadata": {
    "vscode": {
     "languageId": "r"
    }
   },
   "outputs": [],
   "source": [
    "PARAM <- list()\n",
    "PARAM$HOME <- \"C://Austral/mcd-reg-adv/datasets/\"\n",
    "PARAM$FILE <- \"estudio.csv\"\n",
    "file_name <- paste0(PARAM$HOME,PARAM$FILE)"
   ]
  },
  {
   "cell_type": "code",
   "execution_count": 3,
   "metadata": {
    "vscode": {
     "languageId": "r"
    }
   },
   "outputs": [
    {
     "data": {
      "text/html": [
       "<table class=\"dataframe\">\n",
       "<caption>A data.frame: 6 × 2</caption>\n",
       "<thead>\n",
       "\t<tr><th></th><th scope=col>horas_estudio</th><th scope=col>puntaje</th></tr>\n",
       "\t<tr><th></th><th scope=col>&lt;dbl&gt;</th><th scope=col>&lt;int&gt;</th></tr>\n",
       "</thead>\n",
       "<tbody>\n",
       "\t<tr><th scope=row>1</th><td>1.0</td><td>28</td></tr>\n",
       "\t<tr><th scope=row>2</th><td>1.0</td><td>38</td></tr>\n",
       "\t<tr><th scope=row>3</th><td>1.5</td><td>45</td></tr>\n",
       "\t<tr><th scope=row>4</th><td>1.5</td><td>44</td></tr>\n",
       "\t<tr><th scope=row>5</th><td>2.0</td><td>52</td></tr>\n",
       "\t<tr><th scope=row>6</th><td>2.0</td><td>50</td></tr>\n",
       "</tbody>\n",
       "</table>\n"
      ],
      "text/latex": [
       "A data.frame: 6 × 2\n",
       "\\begin{tabular}{r|ll}\n",
       "  & horas\\_estudio & puntaje\\\\\n",
       "  & <dbl> & <int>\\\\\n",
       "\\hline\n",
       "\t1 & 1.0 & 28\\\\\n",
       "\t2 & 1.0 & 38\\\\\n",
       "\t3 & 1.5 & 45\\\\\n",
       "\t4 & 1.5 & 44\\\\\n",
       "\t5 & 2.0 & 52\\\\\n",
       "\t6 & 2.0 & 50\\\\\n",
       "\\end{tabular}\n"
      ],
      "text/markdown": [
       "\n",
       "A data.frame: 6 × 2\n",
       "\n",
       "| <!--/--> | horas_estudio &lt;dbl&gt; | puntaje &lt;int&gt; |\n",
       "|---|---|---|\n",
       "| 1 | 1.0 | 28 |\n",
       "| 2 | 1.0 | 38 |\n",
       "| 3 | 1.5 | 45 |\n",
       "| 4 | 1.5 | 44 |\n",
       "| 5 | 2.0 | 52 |\n",
       "| 6 | 2.0 | 50 |\n",
       "\n"
      ],
      "text/plain": [
       "  horas_estudio puntaje\n",
       "1 1.0           28     \n",
       "2 1.0           38     \n",
       "3 1.5           45     \n",
       "4 1.5           44     \n",
       "5 2.0           52     \n",
       "6 2.0           50     "
      ]
     },
     "metadata": {},
     "output_type": "display_data"
    }
   ],
   "source": [
    "estudio <- read.csv(file_name, sep = \";\")\n",
    "head(estudio)"
   ]
  },
  {
   "cell_type": "code",
   "execution_count": 5,
   "metadata": {
    "vscode": {
     "languageId": "r"
    }
   },
   "outputs": [
    {
     "data": {
      "image/png": "[encoded data removed]",
      "text/plain": [
       "plot without title"
      ]
     },
     "metadata": {
      "image/png": {
       "height": 420,
       "width": 420
      }
     },
     "output_type": "display_data"
    }
   ],
   "source": [
    "plot( estudio$horas_estudio, estudio$puntaje )"
   ]
  },
  {
   "attachments": {},
   "cell_type": "markdown",
   "metadata": {},
   "source": [
    "### a) Ajuste un modelo de regresión simple para estimar la nota final en función de las horas dedicadas al estudio."
   ]
  },
  {
   "cell_type": "code",
   "execution_count": 6,
   "metadata": {
    "vscode": {
     "languageId": "r"
    }
   },
   "outputs": [
    {
     "data": {
      "text/plain": [
       "\n",
       "Call:\n",
       "lm(formula = puntaje ~ horas_estudio, data = estudio)\n",
       "\n",
       "Residuals:\n",
       "    Min      1Q  Median      3Q     Max \n",
       "-42.506  -4.395   1.623   8.204  18.491 \n",
       "\n",
       "Coefficients:\n",
       "              Estimate Std. Error t value Pr(>|t|)    \n",
       "(Intercept)    39.8305     4.9007   8.127 1.43e-09 ***\n",
       "horas_estudio   5.7094     0.9288   6.147 4.94e-07 ***\n",
       "---\n",
       "Signif. codes:  0 '***' 0.001 '**' 0.01 '*' 0.05 '.' 0.1 ' ' 1\n",
       "\n",
       "Residual standard error: 12.24 on 35 degrees of freedom\n",
       "Multiple R-squared:  0.5192,\tAdjusted R-squared:  0.5054 \n",
       "F-statistic: 37.79 on 1 and 35 DF,  p-value: 4.943e-07\n"
      ]
     },
     "metadata": {},
     "output_type": "display_data"
    }
   ],
   "source": [
    "mod_hs_est <- lm ( puntaje ~ horas_estudio, data = estudio )\n",
    "summary( mod_hs_est )"
   ]
  },
  {
   "attachments": {},
   "cell_type": "markdown",
   "metadata": {},
   "source": [
    "### b) Estudie el cumplimiento de los supuestos del modelo, gráfica y analíticamente"
   ]
  },
  {
   "cell_type": "code",
   "execution_count": 14,
   "metadata": {
    "vscode": {
     "languageId": "r"
    }
   },
   "outputs": [
    {
     "ename": "ERROR",
     "evalue": "Error in eval(predvars, data, env): objeto 'horas_estudio' no encontrado\n",
     "output_type": "error",
     "traceback": [
      "Error in eval(predvars, data, env): objeto 'horas_estudio' no encontrado\nTraceback:\n",
      "1. predict(mod_hs_est, newdata = data.frame(estudio$horas_estudio), \n .     interval = \"prediction\", level = 0.95)",
      "2. predict(mod_hs_est, newdata = data.frame(estudio$horas_estudio), \n .     interval = \"prediction\", level = 0.95)",
      "3. predict.lm(mod_hs_est, newdata = data.frame(estudio$horas_estudio), \n .     interval = \"prediction\", level = 0.95)",
      "4. model.frame(Terms, newdata, na.action = na.action, xlev = object$xlevels)",
      "5. model.frame.default(Terms, newdata, na.action = na.action, xlev = object$xlevels)",
      "6. eval(predvars, data, env)",
      "7. eval(predvars, data, env)"
     ]
    }
   ],
   "source": [
    "IC_mod_hs_est <- predict( mod_hs_est, \n",
    "    interval = \"confidence\", \n",
    "    level = 0.95 )\n",
    "\n",
    "IP_mod_hs_est <- predict( mod_hs_est, \n",
    "    newdata = estudio$horas_estudio, \n",
    "    interval = \"prediction\", \n",
    "    level = 0.95 )\n",
    "\n",
    "datos <- data.frame ( estudio$horas_estudio, puntaje, IP_mod_hs_est )"
   ]
  },
  {
   "cell_type": "code",
   "execution_count": 9,
   "metadata": {
    "vscode": {
     "languageId": "r"
    }
   },
   "outputs": [
    {
     "ename": "ERROR",
     "evalue": "Error in ggplot(data = datos, mapping = aes(x = horas_estudio, y = puntaje)): objeto 'datos' no encontrado\n",
     "output_type": "error",
     "traceback": [
      "Error in ggplot(data = datos, mapping = aes(x = horas_estudio, y = puntaje)): objeto 'datos' no encontrado\nTraceback:\n",
      "1. ggplot(data = datos, mapping = aes(x = horas_estudio, y = puntaje))"
     ]
    }
   ],
   "source": [
    "ggplot(data = datos, mapping = aes (x = horas_estudio, y = puntaje)) +\n",
    "  geom_point(color = \"darkorange\", size = 2) +\n",
    "  labs(title = \"Diagrama de dispersión con bandas de confianza y predicción - Modelo 1 (OLS Simple)\", x = \"horas_estudio\") + \n",
    "  geom_line(aes(y=lwr), color = \"red\", linetype = \"dashed\") +\n",
    "  geom_line(aes(y=upr), color = \"red\", linetype = \"dashed\") +\n",
    "  geom_smooth(method = \"lm\", se = TRUE, color = \"red\") +\n",
    "  theme_bw() +\n",
    "  theme(plot.title = element_text(hjust = 0.5))"
   ]
  },
  {
   "cell_type": "code",
   "execution_count": 18,
   "metadata": {
    "vscode": {
     "languageId": "r"
    }
   },
   "outputs": [
    {
     "data": {
      "image/png": "[encoded data removed]",
      "text/plain": [
       "Plot with title \"\""
      ]
     },
     "metadata": {
      "image/png": {
       "height": 420,
       "width": 420
      }
     },
     "output_type": "display_data"
    }
   ],
   "source": [
    "par( mfrow = c(2,2) )\n",
    "plot( mod_hs_est )"
   ]
  },
  {
   "cell_type": "code",
   "execution_count": 19,
   "metadata": {
    "vscode": {
     "languageId": "r"
    }
   },
   "outputs": [
    {
     "data": {
      "text/plain": [
       "\n",
       "\tShapiro-Wilk normality test\n",
       "\n",
       "data:  mod_hs_est$residuals\n",
       "W = 0.92105, p-value = 0.01196\n"
      ]
     },
     "metadata": {},
     "output_type": "display_data"
    }
   ],
   "source": [
    "shapiro.test( mod_hs_est$residuals )"
   ]
  },
  {
   "attachments": {},
   "cell_type": "markdown",
   "metadata": {},
   "source": [
    "Podríamos no rechazar normalidad."
   ]
  },
  {
   "cell_type": "code",
   "execution_count": 20,
   "metadata": {
    "vscode": {
     "languageId": "r"
    }
   },
   "outputs": [
    {
     "data": {
      "text/plain": [
       "\n",
       "\tstudentized Breusch-Pagan test\n",
       "\n",
       "data:  mod_hs_est\n",
       "BP = 4.781, df = 1, p-value = 0.02877\n"
      ]
     },
     "metadata": {},
     "output_type": "display_data"
    }
   ],
   "source": [
    "bptest( mod_hs_est )"
   ]
  },
  {
   "attachments": {},
   "cell_type": "markdown",
   "metadata": {},
   "source": [
    "Rechazamos H0 de homocedasticidad"
   ]
  },
  {
   "cell_type": "code",
   "execution_count": 21,
   "metadata": {
    "vscode": {
     "languageId": "r"
    }
   },
   "outputs": [
    {
     "data": {
      "text/plain": [
       " lag Autocorrelation D-W Statistic p-value\n",
       "   1       0.0446036      1.826352   0.474\n",
       " Alternative hypothesis: rho != 0"
      ]
     },
     "metadata": {},
     "output_type": "display_data"
    }
   ],
   "source": [
    "dwt( mod_hs_est )"
   ]
  },
  {
   "attachments": {},
   "cell_type": "markdown",
   "metadata": {},
   "source": [
    "No rechazamos H0 de no autocorrelación"
   ]
  },
  {
   "attachments": {},
   "cell_type": "markdown",
   "metadata": {},
   "source": [
    "### c) Ajuste un modelo de mínimos cuadrados ponderados definiendo los pesos de tal manera que las observaciones con menor varianza tengan mas peso."
   ]
  },
  {
   "cell_type": "code",
   "execution_count": 22,
   "metadata": {
    "vscode": {
     "languageId": "r"
    }
   },
   "outputs": [
    {
     "data": {
      "text/plain": [
       "\n",
       "Call:\n",
       "lm(formula = puntaje ~ horas_estudio, data = estudio, weights = W)\n",
       "\n",
       "Weighted Residuals:\n",
       "    Min      1Q  Median      3Q     Max \n",
       "-1.5138 -1.0195  0.8341  0.9563  0.9914 \n",
       "\n",
       "Coefficients:\n",
       "              Estimate Std. Error t value Pr(>|t|)    \n",
       "(Intercept)    39.7497     0.7773   51.14   <2e-16 ***\n",
       "horas_estudio   5.7794     0.1853   31.18   <2e-16 ***\n",
       "---\n",
       "Signif. codes:  0 '***' 0.001 '**' 0.01 '*' 0.05 '.' 0.1 ' ' 1\n",
       "\n",
       "Residual standard error: 1.018 on 35 degrees of freedom\n",
       "Multiple R-squared:  0.9653,\tAdjusted R-squared:  0.9643 \n",
       "F-statistic: 972.3 on 1 and 35 DF,  p-value: < 2.2e-16\n"
      ]
     },
     "metadata": {},
     "output_type": "display_data"
    }
   ],
   "source": [
    "# Coincidiendo con Chat GPT, si lo hago por \"fitted.values\", R^2 cae a 0.6455\n",
    "\n",
    "W <- 1 / ( (mod_hs_est$residuals)^2 )  \n",
    "mod_hs_est_wls <- lm ( puntaje ~ horas_estudio, data = estudio, weights = W )\n",
    "summary( mod_hs_est_wls )"
   ]
  },
  {
   "attachments": {},
   "cell_type": "markdown",
   "metadata": {},
   "source": [
    "### d) Realice el análisis de diagnóstico del segundo modelo ajustado"
   ]
  },
  {
   "cell_type": "code",
   "execution_count": 23,
   "metadata": {
    "vscode": {
     "languageId": "r"
    }
   },
   "outputs": [
    {
     "data": {
      "text/plain": [
       "\n",
       "\tShapiro-Wilk normality test\n",
       "\n",
       "data:  mod_hs_est_wls$residuals\n",
       "W = 0.91736, p-value = 0.009279\n"
      ]
     },
     "metadata": {},
     "output_type": "display_data"
    }
   ],
   "source": [
    "shapiro.test( mod_hs_est_wls$residuals )"
   ]
  },
  {
   "attachments": {},
   "cell_type": "markdown",
   "metadata": {},
   "source": [
    "Rechazamos H0 de normalidad (justito)"
   ]
  },
  {
   "cell_type": "code",
   "execution_count": 24,
   "metadata": {
    "vscode": {
     "languageId": "r"
    }
   },
   "outputs": [
    {
     "data": {
      "text/plain": [
       "\n",
       "\tstudentized Breusch-Pagan test\n",
       "\n",
       "data:  mod_hs_est_wls\n",
       "BP = 0.00058108, df = 1, p-value = 0.9808\n"
      ]
     },
     "metadata": {},
     "output_type": "display_data"
    }
   ],
   "source": [
    "bptest( mod_hs_est_wls )"
   ]
  },
  {
   "attachments": {},
   "cell_type": "markdown",
   "metadata": {},
   "source": [
    "No rechazamos H0 de homocedasticidad"
   ]
  },
  {
   "cell_type": "code",
   "execution_count": 25,
   "metadata": {
    "vscode": {
     "languageId": "r"
    }
   },
   "outputs": [
    {
     "data": {
      "text/plain": [
       " lag Autocorrelation D-W Statistic p-value\n",
       "   1      0.04612406      1.825665   0.466\n",
       " Alternative hypothesis: rho != 0"
      ]
     },
     "metadata": {},
     "output_type": "display_data"
    }
   ],
   "source": [
    "dwt( mod_hs_est_wls )"
   ]
  },
  {
   "attachments": {},
   "cell_type": "markdown",
   "metadata": {},
   "source": [
    "No rechazamos H0 de no autocorrelación"
   ]
  },
  {
   "cell_type": "code",
   "execution_count": 26,
   "metadata": {
    "vscode": {
     "languageId": "r"
    }
   },
   "outputs": [
    {
     "data": {
      "image/png": "[encoded data removed]",
      "text/plain": [
       "Plot with title \"\""
      ]
     },
     "metadata": {
      "image/png": {
       "height": 420,
       "width": 420
      }
     },
     "output_type": "display_data"
    }
   ],
   "source": [
    "par( mfrow = c(2,2) )\n",
    "plot( mod_hs_est_wls )"
   ]
  },
  {
   "cell_type": "code",
   "execution_count": 27,
   "metadata": {
    "vscode": {
     "languageId": "r"
    }
   },
   "outputs": [
    {
     "ename": "ERROR",
     "evalue": "Error in data.frame(horas_estudio = horas_estudio): objeto 'horas_estudio' no encontrado\n",
     "output_type": "error",
     "traceback": [
      "Error in data.frame(horas_estudio = horas_estudio): objeto 'horas_estudio' no encontrado\nTraceback:\n",
      "1. predict(mod_hs_est_wls, newdata = data.frame(horas_estudio = horas_estudio), \n .     interval = \"prediction\", level = 0.95)",
      "2. predict(mod_hs_est_wls, newdata = data.frame(horas_estudio = horas_estudio), \n .     interval = \"prediction\", level = 0.95)",
      "3. predict.lm(mod_hs_est_wls, newdata = data.frame(horas_estudio = horas_estudio), \n .     interval = \"prediction\", level = 0.95)",
      "4. data.frame(horas_estudio = horas_estudio)"
     ]
    }
   ],
   "source": [
    "IC_mod_hs_est_wls <- predict( mod_hs_est_wls, \n",
    "    interval = \"confidence\", \n",
    "    level = 0.95 )\n",
    "\n",
    "IP_mod_hs_est_wls <- predict( mod_hs_est_wls, \n",
    "    newdata = data.frame( horas_estudio=horas_estudio ), \n",
    "    interval = \"prediction\", level = 0.95 )"
   ]
  },
  {
   "cell_type": "code",
   "execution_count": 28,
   "metadata": {
    "vscode": {
     "languageId": "r"
    }
   },
   "outputs": [
    {
     "ename": "ERROR",
     "evalue": "Error in data.frame(horas_estudio, puntaje, IP_mod_hs_est_wls): objeto 'horas_estudio' no encontrado\n",
     "output_type": "error",
     "traceback": [
      "Error in data.frame(horas_estudio, puntaje, IP_mod_hs_est_wls): objeto 'horas_estudio' no encontrado\nTraceback:\n",
      "1. data.frame(horas_estudio, puntaje, IP_mod_hs_est_wls)"
     ]
    }
   ],
   "source": [
    "datos <- data.frame ( horas_estudio, puntaje, IP_mod_hs_est_wls )\n",
    "\n",
    "ggplot( data = datos, mapping = aes (x = horas_estudio, y = puntaje) ) +\n",
    "    geom_point( color = \"blue\", size = 2 ) +\n",
    "    labs( title = \"Diagrama de dispersión con bandas de confianza y predicción - Modelo 2 (WLS)\", x = \"horas_estudio\" ) + \n",
    "    geom_line( aes(y=lwr), color = \"black\", linetype = \"dashed\" ) +\n",
    "    geom_line( aes(y=upr), color = \"black\", linetype = \"dashed\" ) +\n",
    "    geom_smooth( method = \"lm\", se = TRUE, color = \"darkblue\" ) +\n",
    "    theme_bw() +\n",
    "    theme( plot.title = element_text(hjust = 0.5) )"
   ]
  },
  {
   "cell_type": "code",
   "execution_count": null,
   "metadata": {
    "vscode": {
     "languageId": "r"
    }
   },
   "outputs": [],
   "source": [
    "plot(horas_estudio, puntaje, xlab = \"Horas Estudio\", ylab = \"Puntaje\", main = \"Horas de estudio vs puntaje - models fitt\", pch = 16)\n",
    "abline(mod_hs_est, col = \"darkorange\", lwd = 2)\n",
    "abline(mod_hs_est_wls, col = \"blue\", lwd = 2)"
   ]
  }
 ],
 "metadata": {
  "kernelspec": {
   "display_name": "R",
   "language": "R",
   "name": "ir"
  },
  "language_info": {
   "codemirror_mode": "r",
   "file_extension": ".r",
   "mimetype": "text/x-r-source",
   "name": "R",
   "pygments_lexer": "r",
   "version": "4.2.3"
  },
  "orig_nbformat": 4
 },
 "nbformat": 4,
 "nbformat_minor": 2
}
