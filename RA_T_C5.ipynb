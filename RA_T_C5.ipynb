{
 "cells": [
  {
   "attachments": {},
   "cell_type": "markdown",
   "metadata": {},
   "source": [
    "## Clase 5"
   ]
  },
  {
   "cell_type": "code",
   "execution_count": 16,
   "metadata": {
    "vscode": {
     "languageId": "r"
    }
   },
   "outputs": [],
   "source": [
    "suppressMessages( library( gamlss ) )\n",
    "suppressMessages( library( tidyverse ) )\n",
    "suppressMessages( library( ggpubr ) )\n",
    "suppressMessages( library( skimr ) )\n",
    "\n",
    "data( 'rent' )\n",
    "datos <- rent %>% select( R, Fl, A, H, loc )\n",
    "datos <- datos %>% setNames( c( 'valor', 'metros', 'anio', 'calef', 'local' ) )"
   ]
  },
  {
   "cell_type": "code",
   "execution_count": 17,
   "metadata": {
    "vscode": {
     "languageId": "r"
    }
   },
   "outputs": [
    {
     "name": "stdout",
     "output_type": "stream",
     "text": [
      "******************************************************************\n",
      "Family:  c(\"NO\", \"Normal\") \n",
      "\n",
      "Call:  gamlss(formula = valor ~ metros + anio + calef + local,  \n",
      "    family = \"NO\", data = datos, trace = FALSE) \n",
      "\n",
      "Fitting method: RS() \n",
      "\n",
      "------------------------------------------------------------------\n",
      "Mu link function:  identity\n",
      "Mu Coefficients:\n",
      "              Estimate Std. Error t value Pr(>|t|)    \n",
      "(Intercept) -2775.0388   470.1352  -5.903 4.20e-09 ***\n",
      "metros          8.8394     0.3370  26.228  < 2e-16 ***\n",
      "anio            1.4808     0.2385   6.208 6.55e-10 ***\n",
      "calef1       -204.7596    18.9858 -10.785  < 2e-16 ***\n",
      "local2        134.0523    25.1430   5.332 1.09e-07 ***\n",
      "local3        209.5815    27.1286   7.725 1.76e-14 ***\n",
      "---\n",
      "Signif. codes:  0 '***' 0.001 '**' 0.01 '*' 0.05 '.' 0.1 ' ' 1\n",
      "\n",
      "------------------------------------------------------------------\n",
      "Sigma link function:  log\n",
      "Sigma Coefficients:\n",
      "            Estimate Std. Error t value Pr(>|t|)    \n",
      "(Intercept)  5.73165    0.01594   359.7   <2e-16 ***\n",
      "---\n",
      "Signif. codes:  0 '***' 0.001 '**' 0.01 '*' 0.05 '.' 0.1 ' ' 1\n",
      "\n",
      "------------------------------------------------------------------\n",
      "No. of observations in the fit:  1969 \n",
      "Degrees of Freedom for the fit:  7\n",
      "      Residual Deg. of Freedom:  1962 \n",
      "                      at cycle:  2 \n",
      " \n",
      "Global Deviance:     28159 \n",
      "            AIC:     28173 \n",
      "            SBC:     28212.1 \n",
      "******************************************************************\n"
     ]
    }
   ],
   "source": [
    "mod_OLS <- gamlss( formula = valor ~ metros + anio + calef + local, \n",
    "                  family = 'NO', \n",
    "                  data = datos,\n",
    "                  trace = FALSE)\n",
    "\n",
    "summary(mod_OLS)"
   ]
  }
 ],
 "metadata": {
  "kernelspec": {
   "display_name": "R",
   "language": "R",
   "name": "ir"
  },
  "language_info": {
   "codemirror_mode": "r",
   "file_extension": ".r",
   "mimetype": "text/x-r-source",
   "name": "R",
   "pygments_lexer": "r",
   "version": "4.2.3"
  },
  "orig_nbformat": 4
 },
 "nbformat": 4,
 "nbformat_minor": 2
}
