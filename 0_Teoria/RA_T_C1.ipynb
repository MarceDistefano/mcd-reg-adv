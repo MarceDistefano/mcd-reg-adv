{
 "cells": [
  {
   "attachments": {},
   "cell_type": "markdown",
   "metadata": {},
   "source": [
    "## Regresión Avanzada\n",
    "## Clase 1"
   ]
  },
  {
   "cell_type": "code",
   "execution_count": 13,
   "metadata": {
    "vscode": {
     "languageId": "r"
    }
   },
   "outputs": [],
   "source": [
    "suppressMessages( library( corrplot ) )\n",
    "suppressMessages( library( dplyr ) )\n",
    "suppressMessages( library( MVN ) )\n",
    "suppressMessages( library( ggplot2 ) )\n",
    "suppressMessages( library( knitr ) )\n",
    "suppressMessages( library( kableExtra) )"
   ]
  },
  {
   "attachments": {},
   "cell_type": "markdown",
   "metadata": {},
   "source": [
    "## 1. Asociación entre variables"
   ]
  },
  {
   "attachments": {},
   "cell_type": "markdown",
   "metadata": {},
   "source": [
    "### Ejemplo 1: Publicidad-Ventas"
   ]
  },
  {
   "attachments": {},
   "cell_type": "markdown",
   "metadata": {},
   "source": [
    "Interesa estudiar la existencia de correlación lineal entre la inversión en publicidad (X) y los ingresos de la empresa (W) con este objetivo se recogieron los datos correspondientes a ambas variables en un grupo de empresas nacionales con locales en shoppings."
   ]
  },
  {
   "attachments": {},
   "cell_type": "markdown",
   "metadata": {},
   "source": [
    "### Los datos"
   ]
  },
  {
   "cell_type": "code",
   "execution_count": 28,
   "metadata": {
    "vscode": {
     "languageId": "r"
    }
   },
   "outputs": [],
   "source": [
    "# Incorporamos los datos\n",
    "X = c( 60, 61, 61, 62, 63, 64, 65, 68, 70 )\n",
    "W = c( 125, 130, 120, 135, 130, 140, 140, 160, 169 )\n",
    "data = data.frame(X, W)"
   ]
  },
  {
   "attachments": {},
   "cell_type": "markdown",
   "metadata": {},
   "source": [
    "### Plot"
   ]
  },
  {
   "cell_type": "code",
   "execution_count": 32,
   "metadata": {
    "vscode": {
     "languageId": "r"
    }
   },
   "outputs": [
    {
     "data": {
      "image/png": "[encoded data removed]",
      "text/plain": [
       "plot without title"
      ]
     },
     "metadata": {
      "image/png": {
       "height": 420,
       "width": 420
      }
     },
     "output_type": "display_data"
    }
   ],
   "source": [
    "# Polt\n",
    "ggplot(data = data, mapping = aes(x = X, y = W))+\n",
    "  geom_point()"
   ]
  },
  {
   "attachments": {},
   "cell_type": "markdown",
   "metadata": {},
   "source": [
    "### Salida"
   ]
  },
  {
   "cell_type": "code",
   "execution_count": 25,
   "metadata": {
    "vscode": {
     "languageId": "r"
    }
   },
   "outputs": [
    {
     "name": "stdout",
     "output_type": "stream",
     "text": [
      "           Test        HZ   p value MVN\n",
      "1 Henze-Zirkler 0.4992344 0.1198209 YES\n"
     ]
    }
   ],
   "source": [
    "# Guardamos los resultados del Test Henze-Zirkler en el objeto result\n",
    "result <- mvn(data, mvnTest = \"hz\")\n",
    "\n",
    "# Mostramos los resultados\n",
    "print( result$multivariateNormality )"
   ]
  },
  {
   "attachments": {},
   "cell_type": "markdown",
   "metadata": {},
   "source": [
    "Puede sostenerse el supuesto distribucional normal bivariado para estas variables."
   ]
  },
  {
   "cell_type": "code",
   "execution_count": 5,
   "metadata": {
    "vscode": {
     "languageId": "r"
    }
   },
   "outputs": [
    {
     "data": {
      "text/html": [
       "0.966576301661236"
      ],
      "text/latex": [
       "0.966576301661236"
      ],
      "text/markdown": [
       "0.966576301661236"
      ],
      "text/plain": [
       "[1] 0.9665763"
      ]
     },
     "metadata": {},
     "output_type": "display_data"
    }
   ],
   "source": [
    "cor( X, W )"
   ]
  },
  {
   "cell_type": "code",
   "execution_count": 6,
   "metadata": {
    "vscode": {
     "languageId": "r"
    }
   },
   "outputs": [
    {
     "data": {
      "text/plain": [
       "\n",
       "\tPearson's product-moment correlation\n",
       "\n",
       "data:  X and W\n",
       "t = 9.9748, df = 7, p-value = 2.175e-05\n",
       "alternative hypothesis: true correlation is not equal to 0\n",
       "95 percent confidence interval:\n",
       " 0.8446666 0.9931627\n",
       "sample estimates:\n",
       "      cor \n",
       "0.9665763 \n"
      ]
     },
     "metadata": {},
     "output_type": "display_data"
    }
   ],
   "source": [
    "cor.test( X, W )"
   ]
  },
  {
   "attachments": {},
   "cell_type": "markdown",
   "metadata": {},
   "source": [
    "Nota: Este estadístico sólo es válido utilizarlo para testear hipótesis para Rho con respecto a cero (sea la alternativa: distinto, menor o mayor) pero no corresponde utilizarlo para hipótesis donde Rho es diferente de cero."
   ]
  },
  {
   "attachments": {},
   "cell_type": "markdown",
   "metadata": {},
   "source": [
    "### Ejemplo 2: Relación no Lineal"
   ]
  },
  {
   "cell_type": "code",
   "execution_count": 35,
   "metadata": {
    "vscode": {
     "languageId": "r"
    }
   },
   "outputs": [
    {
     "data": {
      "image/png": "[encoded data removed]",
      "text/plain": [
       "plot without title"
      ]
     },
     "metadata": {
      "image/png": {
       "height": 420,
       "width": 420
      }
     },
     "output_type": "display_data"
    }
   ],
   "source": [
    "# Incorporamos los datos\n",
    "x = c( 2, 5, 7, 8, 11, 12, 14, 16, 19, 20, 21, 22 )\n",
    "y = c( 117.40, 98.50, 62.58, 47.45, 16.58, 8.39, 1.11, 1.18, 16.16, 64.71, 80.2, 64.7 )\n",
    "\n",
    "data = data.frame(x, y)\n",
    "# Polt\n",
    "ggplot( data = data, mapping = aes(x = x, y = y) ) +\n",
    "  geom_point()"
   ]
  },
  {
   "attachments": {},
   "cell_type": "markdown",
   "metadata": {},
   "source": [
    "### Ejemplo 3: Nicotina"
   ]
  },
  {
   "cell_type": "code",
   "execution_count": 37,
   "metadata": {
    "vscode": {
     "languageId": "r"
    }
   },
   "outputs": [
    {
     "data": {
      "text/plain": [
       "\n",
       "\tSpearman's rank correlation rho\n",
       "\n",
       "data:  x and y\n",
       "S = 140.93, p-value = 0.6876\n",
       "alternative hypothesis: true rho is not equal to 0\n",
       "sample estimates:\n",
       "      rho \n",
       "0.1458973 \n"
      ]
     },
     "metadata": {},
     "output_type": "display_data"
    }
   ],
   "source": [
    "x = c( 196.5, 199.1, 199.9, 204.2 ,204.2, 207.4, 234.1, 181.7 ,183, 192.8 )\n",
    "y = c( 0.76, 1.11, 1.66, 0.96, 1.21, 1.14, 1.53, 1.51, 1.28, 0.84 )\n",
    "suppressWarnings( cor.test( x, y, method = 'spearman' ) )"
   ]
  },
  {
   "attachments": {},
   "cell_type": "markdown",
   "metadata": {},
   "source": [
    "Interpretación del coeficiente de Spearman\n",
    "La interpretación de este coeficiente es similar a la Pearson:\n",
    "\n",
    "* Valores próximos a **1** indican una correlación fuerte y positiva.\n",
    "\n",
    "* Valores próximos a **–1** indican una correlación fuerte y negativa.\n",
    "\n",
    "* Valores próximos a **cero** indican que no hay correlación lineal."
   ]
  },
  {
   "attachments": {},
   "cell_type": "markdown",
   "metadata": {},
   "source": [
    "### Correlación dentro de una base"
   ]
  },
  {
   "attachments": {},
   "cell_type": "markdown",
   "metadata": {},
   "source": [
    "Para analizar la correlación de a pares entre varias variables de una base disponemos del recurso del correlograma que hace un poco más visual este análisis.\n",
    "Datos de calificacione de estudiantes"
   ]
  },
  {
   "cell_type": "code",
   "execution_count": 12,
   "metadata": {
    "vscode": {
     "languageId": "r"
    }
   },
   "outputs": [
    {
     "data": {
      "image/png": "[encoded data removed]",
      "text/plain": [
       "Plot with title \"\""
      ]
     },
     "metadata": {
      "image/png": {
       "height": 420,
       "width": 420
      }
     },
     "output_type": "display_data"
    }
   ],
   "source": [
    "estud = read.csv(\"C:/Austral/mcd-reg-adv/datasets/estud.csv\")\n",
    "\n",
    "base_est = estud %>% select( read, write, math, science, socst )\n",
    "M = cor( base_est )\n",
    "\n",
    "corrplot( M, tl.col = \"red\",\n",
    "    bg = \"white\",\n",
    "    tl.srt = 35,\n",
    "    addCoef.col = \"black\",\n",
    "    type = \"full\" )"
   ]
  },
  {
   "attachments": {},
   "cell_type": "markdown",
   "metadata": {},
   "source": [
    "En todos los casos la asociación entre las variables es positiva en algunos casos es más fuerte que en otros, por ejemplo es muy bajo en ciencia con estudios sociales y más alto en matemática con lectura."
   ]
  },
  {
   "attachments": {},
   "cell_type": "markdown",
   "metadata": {},
   "source": [
    "### Ejemplo 4: Damascos"
   ]
  },
  {
   "attachments": {},
   "cell_type": "markdown",
   "metadata": {},
   "source": [
    "### Estimación e Interpretación del modelo"
   ]
  },
  {
   "cell_type": "code",
   "execution_count": 19,
   "metadata": {
    "vscode": {
     "languageId": "r"
    }
   },
   "outputs": [
    {
     "data": {
      "text/plain": [
       "\n",
       "Call:\n",
       "lm(formula = PESOF ~ LONGF, data = hojas)\n",
       "\n",
       "Residuals:\n",
       "    Min      1Q  Median      3Q     Max \n",
       "-4.6242 -2.5943  0.5176  1.8973  5.1117 \n",
       "\n",
       "Coefficients:\n",
       "            Estimate Std. Error t value Pr(>|t|)    \n",
       "(Intercept) -25.3171     5.8569  -4.323 0.000702 ***\n",
       "LONGF         1.7098     0.1403  12.186 7.68e-09 ***\n",
       "---\n",
       "Signif. codes:  0 '***' 0.001 '**' 0.01 '*' 0.05 '.' 0.1 ' ' 1\n",
       "\n",
       "Residual standard error: 3.175 on 14 degrees of freedom\n",
       "Multiple R-squared:  0.9138,\tAdjusted R-squared:  0.9077 \n",
       "F-statistic: 148.5 on 1 and 14 DF,  p-value: 7.677e-09\n"
      ]
     },
     "metadata": {},
     "output_type": "display_data"
    },
    {
     "data": {
      "image/png": "[encoded data removed]",
      "text/plain": [
       "plot without title"
      ]
     },
     "metadata": {
      "image/png": {
       "height": 420,
       "width": 420
      }
     },
     "output_type": "display_data"
    }
   ],
   "source": [
    "SUPHOJA <- c( 44.09, 36.67, 51.72, 36.04, 38.97, 41.28, 42.06, 53.33, 40.14, 39.31, 33.53, 36.88, 36.94, 34.13, 42.03, 41.55 )\n",
    "PESOF <- c( 49.29, 49, 43.04, 66.79, 63.11, 43.8, 39.63, 44.98, 21.44, 38.75, 40.96, 39.39, 54.7, 44.65, 39.65, 47.16 )\n",
    "LONGF <- c( 46.34, 44.58, 40.06, 51.3, 50.7, 40.29, 39.71, 40.1, 29.63, 37, 37.38, 36.14, 49.33, 42.37, 37.4, 39.4 )\n",
    "\n",
    "hojas <- data.frame( SUPHOJA, PESOF, LONGF )\n",
    "\n",
    "mod_hojas <- lm( PESOF ~ LONGF, data=hojas )\n",
    "summary( mod_hojas )\n",
    "\n",
    "coef <- mod_hojas$coefficients\n",
    "\n",
    "ggplot( hojas, aes( x=LONGF,y=PESOF ) ) +\n",
    "    geom_point(size=3,col=\"#088A4B\") + \n",
    "    theme_bw() +\n",
    "    geom_abline( intercept=coef[1], slope=coef[2], col=\"#0B3B2E\", linetype = \"dotted\" ) +\n",
    "    geom_text ( x=45, y=60, label=\"y=32.2798+1.8818x\" )"
   ]
  },
  {
   "cell_type": "code",
   "execution_count": 20,
   "metadata": {
    "vscode": {
     "languageId": "r"
    }
   },
   "outputs": [
    {
     "name": "stdout",
     "output_type": "stream",
     "text": [
      "Analysis of Variance Table\n",
      "\n",
      "Response: PESOF\n",
      "          Df  Sum Sq Mean Sq F value    Pr(>F)    \n",
      "LONGF      1 1497.07 1497.07   148.5 7.677e-09 ***\n",
      "Residuals 14  141.14   10.08                      \n",
      "---\n",
      "Signif. codes:  0 '***' 0.001 '**' 0.01 '*' 0.05 '.' 0.1 ' ' 1\n"
     ]
    }
   ],
   "source": [
    "print( anova( mod_hojas ) )"
   ]
  },
  {
   "attachments": {},
   "cell_type": "markdown",
   "metadata": {},
   "source": [
    "Hallamos el intervalo de confianza para una nueva observación con longitud del fruto LONGF = −34.3 de nivel 95%"
   ]
  },
  {
   "cell_type": "code",
   "execution_count": 22,
   "metadata": {
    "vscode": {
     "languageId": "r"
    }
   },
   "outputs": [
    {
     "name": "stdout",
     "output_type": "stream",
     "text": [
      "       fit      lwr      upr\n",
      "1 33.32839 30.60627 36.05052\n"
     ]
    }
   ],
   "source": [
    "nuevo <- data.frame( LONGF = 34.3)\n",
    "print( predict( object=mod_hojas, newdata=nuevo, interval=\"confidence\", level=0.95 ) )"
   ]
  },
  {
   "attachments": {},
   "cell_type": "markdown",
   "metadata": {},
   "source": [
    "## 3. Estimación e Interpretación del modelo"
   ]
  },
  {
   "attachments": {},
   "cell_type": "markdown",
   "metadata": {},
   "source": [
    "### Bandas de Confianza y Predicción"
   ]
  },
  {
   "attachments": {},
   "cell_type": "markdown",
   "metadata": {},
   "source": [
    "Realizamos esto sobre el recorrido de la variable predictora:"
   ]
  },
  {
   "cell_type": "code",
   "execution_count": 24,
   "metadata": {
    "vscode": {
     "languageId": "r"
    }
   },
   "outputs": [
    {
     "data": {
      "image/png": "[encoded data removed]",
      "text/plain": [
       "plot without title"
      ]
     },
     "metadata": {
      "image/png": {
       "height": 420,
       "width": 420
      }
     },
     "output_type": "display_data"
    }
   ],
   "source": [
    "suppressWarnings( predichos <- predict( object = mod_hojas, interval = \"prediction\", level = 0.95 ) )\n",
    "nuevos_datos <- data.frame( hojas, predichos )\n",
    "\n",
    "ggplot( nuevos_datos, aes( x=LONGF, y=PESOF ) )+\n",
    "    geom_point( col=\"#0B3B2E\" ) +\n",
    "    geom_line( aes( y=lwr ), color=\"#088A4B\" , linetype=\"dashed\" ) +\n",
    "    geom_line( aes( y=upr ), color=\"#088A4B\" , linetype=\"dashed\" ) +\n",
    "    geom_smooth( method=lm, formula=y~x, se=TRUE, level=0.95, col=\"#088A4B\", fill=\"pink2\") +\n",
    "    theme_light()"
   ]
  },
  {
   "cell_type": "code",
   "execution_count": null,
   "metadata": {
    "vscode": {
     "languageId": "r"
    }
   },
   "outputs": [],
   "source": [
    "#Fin script"
   ]
  }
 ],
 "metadata": {
  "kernelspec": {
   "display_name": "R",
   "language": "R",
   "name": "ir"
  },
  "language_info": {
   "codemirror_mode": "r",
   "file_extension": ".r",
   "mimetype": "text/x-r-source",
   "name": "R",
   "pygments_lexer": "r",
   "version": "4.2.3"
  },
  "orig_nbformat": 4
 },
 "nbformat": 4,
 "nbformat_minor": 2
}
