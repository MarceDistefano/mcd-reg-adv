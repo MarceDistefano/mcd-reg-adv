{
 "cells": [
  {
   "attachments": {},
   "cell_type": "markdown",
   "metadata": {},
   "source": [
    "## Clase 4"
   ]
  },
  {
   "cell_type": "code",
   "execution_count": 4,
   "metadata": {
    "vscode": {
     "languageId": "r"
    }
   },
   "outputs": [],
   "source": [
    "library(ggplot2)"
   ]
  },
  {
   "cell_type": "code",
   "execution_count": 6,
   "metadata": {
    "vscode": {
     "languageId": "r"
    }
   },
   "outputs": [
    {
     "data": {
      "text/html": [
       "<table class=\"dataframe\">\n",
       "<caption>A data.frame: 6 × 3</caption>\n",
       "<thead>\n",
       "\t<tr><th></th><th scope=col>templado</th><th scope=col>grosor</th><th scope=col>resistencia</th></tr>\n",
       "\t<tr><th></th><th scope=col>&lt;chr&gt;</th><th scope=col>&lt;fct&gt;</th><th scope=col>&lt;dbl&gt;</th></tr>\n",
       "</thead>\n",
       "<tbody>\n",
       "\t<tr><th scope=row>1</th><td>rapido</td><td>8 </td><td>15.29</td></tr>\n",
       "\t<tr><th scope=row>2</th><td>rapido</td><td>8 </td><td>15.89</td></tr>\n",
       "\t<tr><th scope=row>3</th><td>rapido</td><td>8 </td><td>16.02</td></tr>\n",
       "\t<tr><th scope=row>4</th><td>rapido</td><td>8 </td><td>16.56</td></tr>\n",
       "\t<tr><th scope=row>5</th><td>rapido</td><td>8 </td><td>15.46</td></tr>\n",
       "\t<tr><th scope=row>6</th><td>rapido</td><td>16</td><td>16.91</td></tr>\n",
       "</tbody>\n",
       "</table>\n"
      ],
      "text/latex": [
       "A data.frame: 6 × 3\n",
       "\\begin{tabular}{r|lll}\n",
       "  & templado & grosor & resistencia\\\\\n",
       "  & <chr> & <fct> & <dbl>\\\\\n",
       "\\hline\n",
       "\t1 & rapido & 8  & 15.29\\\\\n",
       "\t2 & rapido & 8  & 15.89\\\\\n",
       "\t3 & rapido & 8  & 16.02\\\\\n",
       "\t4 & rapido & 8  & 16.56\\\\\n",
       "\t5 & rapido & 8  & 15.46\\\\\n",
       "\t6 & rapido & 16 & 16.91\\\\\n",
       "\\end{tabular}\n"
      ],
      "text/markdown": [
       "\n",
       "A data.frame: 6 × 3\n",
       "\n",
       "| <!--/--> | templado &lt;chr&gt; | grosor &lt;fct&gt; | resistencia &lt;dbl&gt; |\n",
       "|---|---|---|---|\n",
       "| 1 | rapido | 8  | 15.29 |\n",
       "| 2 | rapido | 8  | 15.89 |\n",
       "| 3 | rapido | 8  | 16.02 |\n",
       "| 4 | rapido | 8  | 16.56 |\n",
       "| 5 | rapido | 8  | 15.46 |\n",
       "| 6 | rapido | 16 | 16.91 |\n",
       "\n"
      ],
      "text/plain": [
       "  templado grosor resistencia\n",
       "1 rapido   8      15.29      \n",
       "2 rapido   8      15.89      \n",
       "3 rapido   8      16.02      \n",
       "4 rapido   8      16.56      \n",
       "5 rapido   8      15.46      \n",
       "6 rapido   16     16.91      "
      ]
     },
     "metadata": {},
     "output_type": "display_data"
    }
   ],
   "source": [
    "resistencia <- c(\n",
    "    15.29, 15.89, 16.02, 16.56, 15.46, 16.91, 16.99, 17.27, 16.85, 16.35, \n",
    "    17.23, 17.81, 17.74, 18.02, 18.37, 12.07, 12.42, 12.73, 13.02, 12.05, \n",
    "    12.92, 13.01, 12.21, 13.49, 14.01, 13.30, 12.82, 12.49, 13.55, 14.53\n",
    ")\n",
    "\n",
    "templado <- c( rep( c( \"rapido\", \"lento\" ), c( 15, 15 ) ) )\n",
    "grosor<- rep( c( 8, 16, 24 ), each = 5, times = 2)\n",
    "datos<- data.frame( templado = templado, grosor = as.factor( grosor ), resistencia = resistencia )\n",
    "head( datos )"
   ]
  },
  {
   "cell_type": "code",
   "execution_count": 17,
   "metadata": {
    "vscode": {
     "languageId": "r"
    }
   },
   "outputs": [
    {
     "data": {
      "image/png": "[encoded data removed]",
      "text/plain": [
       "plot without title"
      ]
     },
     "metadata": {
      "image/png": {
       "height": 420,
       "width": 420
      }
     },
     "output_type": "display_data"
    },
    {
     "data": {
      "image/png": "[encoded data removed]",
      "text/plain": [
       "plot without title"
      ]
     },
     "metadata": {
      "image/png": {
       "height": 420,
       "width": 420
      }
     },
     "output_type": "display_data"
    },
    {
     "data": {
      "text/html": [
       "<style>\n",
       ".dl-inline {width: auto; margin:0; padding: 0}\n",
       ".dl-inline>dt, .dl-inline>dd {float: none; width: auto; display: inline-block}\n",
       ".dl-inline>dt::after {content: \":\\0020\"; padding-right: .5ex}\n",
       ".dl-inline>dt:not(:first-of-type) {padding-left: .5ex}\n",
       "</style><dl class=dl-inline><dt>lento</dt><dd>12.9746666666667</dd><dt>rapido</dt><dd>16.8506666666667</dd></dl>\n"
      ],
      "text/latex": [
       "\\begin{description*}\n",
       "\\item[lento] 12.9746666666667\n",
       "\\item[rapido] 16.8506666666667\n",
       "\\end{description*}\n"
      ],
      "text/markdown": [
       "lento\n",
       ":   12.9746666666667rapido\n",
       ":   16.8506666666667\n",
       "\n"
      ],
      "text/plain": [
       "   lento   rapido \n",
       "12.97467 16.85067 "
      ]
     },
     "metadata": {},
     "output_type": "display_data"
    },
    {
     "data": {
      "text/html": [
       "<style>\n",
       ".dl-inline {width: auto; margin:0; padding: 0}\n",
       ".dl-inline>dt, .dl-inline>dd {float: none; width: auto; display: inline-block}\n",
       ".dl-inline>dt::after {content: \":\\0020\"; padding-right: .5ex}\n",
       ".dl-inline>dt:not(:first-of-type) {padding-left: .5ex}\n",
       "</style><dl class=dl-inline><dt>lento</dt><dd>0.711345472293442</dd><dt>rapido</dt><dd>0.927642685726003</dd></dl>\n"
      ],
      "text/latex": [
       "\\begin{description*}\n",
       "\\item[lento] 0.711345472293442\n",
       "\\item[rapido] 0.927642685726003\n",
       "\\end{description*}\n"
      ],
      "text/markdown": [
       "lento\n",
       ":   0.711345472293442rapido\n",
       ":   0.927642685726003\n",
       "\n"
      ],
      "text/plain": [
       "    lento    rapido \n",
       "0.7113455 0.9276427 "
      ]
     },
     "metadata": {},
     "output_type": "display_data"
    },
    {
     "data": {
      "text/html": [
       "<style>\n",
       ".dl-inline {width: auto; margin:0; padding: 0}\n",
       ".dl-inline>dt, .dl-inline>dd {float: none; width: auto; display: inline-block}\n",
       ".dl-inline>dt::after {content: \":\\0020\"; padding-right: .5ex}\n",
       ".dl-inline>dt:not(:first-of-type) {padding-left: .5ex}\n",
       "</style><dl class=dl-inline><dt>8</dt><dd>14.151</dd><dt>16</dt><dd>15.001</dd><dt>24</dt><dd>15.586</dd></dl>\n"
      ],
      "text/latex": [
       "\\begin{description*}\n",
       "\\item[8] 14.151\n",
       "\\item[16] 15.001\n",
       "\\item[24] 15.586\n",
       "\\end{description*}\n"
      ],
      "text/markdown": [
       "8\n",
       ":   14.15116\n",
       ":   15.00124\n",
       ":   15.586\n",
       "\n"
      ],
      "text/plain": [
       "     8     16     24 \n",
       "14.151 15.001 15.586 "
      ]
     },
     "metadata": {},
     "output_type": "display_data"
    },
    {
     "data": {
      "text/html": [
       "<style>\n",
       ".dl-inline {width: auto; margin:0; padding: 0}\n",
       ".dl-inline>dt, .dl-inline>dd {float: none; width: auto; display: inline-block}\n",
       ".dl-inline>dt::after {content: \":\\0020\"; padding-right: .5ex}\n",
       ".dl-inline>dt:not(:first-of-type) {padding-left: .5ex}\n",
       "</style><dl class=dl-inline><dt>8</dt><dd>1.83699301395877</dd><dt>16</dt><dd>2.03679732259578</dd><dt>24</dt><dd>2.44235405568753</dd></dl>\n"
      ],
      "text/latex": [
       "\\begin{description*}\n",
       "\\item[8] 1.83699301395877\n",
       "\\item[16] 2.03679732259578\n",
       "\\item[24] 2.44235405568753\n",
       "\\end{description*}\n"
      ],
      "text/markdown": [
       "8\n",
       ":   1.8369930139587716\n",
       ":   2.0367973225957824\n",
       ":   2.44235405568753\n",
       "\n"
      ],
      "text/plain": [
       "       8       16       24 \n",
       "1.836993 2.036797 2.442354 "
      ]
     },
     "metadata": {},
     "output_type": "display_data"
    },
    {
     "data": {
      "text/html": [
       "<table class=\"dataframe\">\n",
       "<caption>A matrix: 2 × 3 of type dbl</caption>\n",
       "<thead>\n",
       "\t<tr><th></th><th scope=col>8</th><th scope=col>16</th><th scope=col>24</th></tr>\n",
       "</thead>\n",
       "<tbody>\n",
       "\t<tr><th scope=row>lento</th><td>12.458</td><td>13.128</td><td>13.338</td></tr>\n",
       "\t<tr><th scope=row>rapido</th><td>15.844</td><td>16.874</td><td>17.834</td></tr>\n",
       "</tbody>\n",
       "</table>\n"
      ],
      "text/latex": [
       "A matrix: 2 × 3 of type dbl\n",
       "\\begin{tabular}{r|lll}\n",
       "  & 8 & 16 & 24\\\\\n",
       "\\hline\n",
       "\tlento & 12.458 & 13.128 & 13.338\\\\\n",
       "\trapido & 15.844 & 16.874 & 17.834\\\\\n",
       "\\end{tabular}\n"
      ],
      "text/markdown": [
       "\n",
       "A matrix: 2 × 3 of type dbl\n",
       "\n",
       "| <!--/--> | 8 | 16 | 24 |\n",
       "|---|---|---|---|\n",
       "| lento | 12.458 | 13.128 | 13.338 |\n",
       "| rapido | 15.844 | 16.874 | 17.834 |\n",
       "\n"
      ],
      "text/plain": [
       "       8      16     24    \n",
       "lento  12.458 13.128 13.338\n",
       "rapido 15.844 16.874 17.834"
      ]
     },
     "metadata": {},
     "output_type": "display_data"
    },
    {
     "data": {
      "text/html": [
       "<table class=\"dataframe\">\n",
       "<caption>A matrix: 2 × 3 of type dbl</caption>\n",
       "<thead>\n",
       "\t<tr><th></th><th scope=col>8</th><th scope=col>16</th><th scope=col>24</th></tr>\n",
       "</thead>\n",
       "<tbody>\n",
       "\t<tr><th scope=row>lento</th><td>0.4207969</td><td>0.6724730</td><td>0.7833709</td></tr>\n",
       "\t<tr><th scope=row>rapido</th><td>0.5000300</td><td>0.3341856</td><td>0.4171690</td></tr>\n",
       "</tbody>\n",
       "</table>\n"
      ],
      "text/latex": [
       "A matrix: 2 × 3 of type dbl\n",
       "\\begin{tabular}{r|lll}\n",
       "  & 8 & 16 & 24\\\\\n",
       "\\hline\n",
       "\tlento & 0.4207969 & 0.6724730 & 0.7833709\\\\\n",
       "\trapido & 0.5000300 & 0.3341856 & 0.4171690\\\\\n",
       "\\end{tabular}\n"
      ],
      "text/markdown": [
       "\n",
       "A matrix: 2 × 3 of type dbl\n",
       "\n",
       "| <!--/--> | 8 | 16 | 24 |\n",
       "|---|---|---|---|\n",
       "| lento | 0.4207969 | 0.6724730 | 0.7833709 |\n",
       "| rapido | 0.5000300 | 0.3341856 | 0.4171690 |\n",
       "\n"
      ],
      "text/plain": [
       "       8         16        24       \n",
       "lento  0.4207969 0.6724730 0.7833709\n",
       "rapido 0.5000300 0.3341856 0.4171690"
      ]
     },
     "metadata": {},
     "output_type": "display_data"
    },
    {
     "data": {
      "image/png": "[encoded data removed]",
      "text/plain": [
       "plot without title"
      ]
     },
     "metadata": {
      "image/png": {
       "height": 420,
       "width": 420
      }
     },
     "output_type": "display_data"
    }
   ],
   "source": [
    "p1 <- ggplot( data = datos, aes( x = templado, y = resistencia, fill = templado ) ) + \n",
    "geom_boxplot() +\n",
    "theme_bw() +\n",
    "scale_fill_brewer( palette = 'Dark2' )\n",
    "p1\n",
    "\n",
    "p2 <- ggplot( data = datos, aes( x = grosor, y = resistencia, fill = grosor ) ) + \n",
    "geom_boxplot() + \n",
    "theme_bw() +\n",
    "scale_fill_brewer( palette = 'Dark2' )\n",
    "p2\n",
    "\n",
    "p3 <- ggplot( data = datos, aes( x = templado, y = resistencia, colour = grosor ) ) + \n",
    "geom_boxplot() +\n",
    "theme_bw()+\n",
    "scale_fill_brewer( palette = 'Dark2' )\n",
    "p3\n",
    "\n",
    "#grid.arrange( p1, p2, ncol = 2 )\n",
    "with( data = datos, expr = tapply( resistencia, templado, mean ) )\n",
    "with( data = datos, expr = tapply( resistencia, templado, sd ) )\n",
    "with( data = datos, expr = tapply( resistencia, grosor, mean ) )\n",
    "with( data = datos, expr = tapply( resistencia, grosor, sd ) )\n",
    "with( data = datos, expr = tapply( resistencia, list( templado, grosor), mean ) )\n",
    "with( data = datos, expr = tapply( resistencia, list( templado, grosor), sd ) )"
   ]
  },
  {
   "attachments": {},
   "cell_type": "markdown",
   "metadata": {},
   "source": [
    "## Gráfico de Interacción"
   ]
  },
  {
   "cell_type": "code",
   "execution_count": 8,
   "metadata": {
    "vscode": {
     "languageId": "r"
    }
   },
   "outputs": [
    {
     "data": {
      "image/png": "[encoded data removed]",
      "text/plain": [
       "plot without title"
      ]
     },
     "metadata": {
      "image/png": {
       "height": 420,
       "width": 420
      }
     },
     "output_type": "display_data"
    }
   ],
   "source": [
    "ggplot( data = datos, aes( x = templado, y = resistencia, colour = grosor, group = grosor) ) +\n",
    "stat_summary( fun = mean, geom = 'point' ) +\n",
    "stat_summary( fun = mean, geom = 'line' ) +\n",
    "labs( y =  'mean (resistencia)' ) + \n",
    "theme_bw()"
   ]
  },
  {
   "cell_type": "code",
   "execution_count": 10,
   "metadata": {
    "vscode": {
     "languageId": "r"
    }
   },
   "outputs": [
    {
     "data": {
      "image/png": "[encoded data removed]",
      "text/plain": [
       "plot without title"
      ]
     },
     "metadata": {
      "image/png": {
       "height": 420,
       "width": 420
      }
     },
     "output_type": "display_data"
    }
   ],
   "source": [
    "ggplot( data = datos, aes( x = grosor, y = resistencia, colour = templado, group = templado ) ) +\n",
    "    stat_summary( fun = mean, geom = 'point' ) +\n",
    "    stat_summary( fun = mean, geom = 'line' ) +\n",
    "    labs( y = 'mean (resistencia)') +\n",
    "    theme_bw()"
   ]
  },
  {
   "cell_type": "code",
   "execution_count": 18,
   "metadata": {
    "vscode": {
     "languageId": "r"
    }
   },
   "outputs": [
    {
     "data": {
      "text/plain": [
       "                Df Sum Sq Mean Sq F value   Pr(>F)    \n",
       "templado         1 112.68  112.68 380.082 3.19e-16 ***\n",
       "grosor           2  10.41    5.21  17.563 2.00e-05 ***\n",
       "templado:grosor  2   1.60    0.80   2.705   0.0873 .  \n",
       "Residuals       24   7.11    0.30                     \n",
       "---\n",
       "Signif. codes:  0 '***' 0.001 '**' 0.01 '*' 0.05 '.' 0.1 ' ' 1"
      ]
     },
     "metadata": {},
     "output_type": "display_data"
    }
   ],
   "source": [
    "anova <- aov( resistencia ~ templado * grosor, data = datos )\n",
    "summary( anova )"
   ]
  },
  {
   "attachments": {},
   "cell_type": "markdown",
   "metadata": {},
   "source": [
    "## Regresión de Cuantiles"
   ]
  },
  {
   "cell_type": "code",
   "execution_count": 19,
   "metadata": {
    "vscode": {
     "languageId": "r"
    }
   },
   "outputs": [],
   "source": [
    "# Generamos una base de datos con varianza no constante\n",
    "\n",
    "set.seed( 3 ) # fijamos una semilla para replicabilidad\n",
    "x <- seq( 0, 100, length.out = 150 ) # variable independiente\n",
    "dst <- 0.2 + 0.1 * x # varianza no constante\n",
    "b0 <- 5 # intercepto teórico\n",
    "b1 <- 2 # pendiente teórica\n",
    "err <- rnorm( 150, mean = 0, sd = dst ) # errores normales\n",
    "y <- b0 + b1 * x + err # variable dependiente\n",
    "base <- data.frame( x,y ) # armamos la base de datos\n",
    "\n",
    "p1 <- ggplot( base, aes( x, y )) + \n",
    "    geom_point( color = 'aquamarine3' ) +\n",
    "    geom_smooth( method = 'lm', level = 0.95 ) + \n",
    "    theme_bw() \n",
    "# visualizamos"
   ]
  },
  {
   "cell_type": "code",
   "execution_count": 23,
   "metadata": {
    "vscode": {
     "languageId": "r"
    }
   },
   "outputs": [
    {
     "name": "stderr",
     "output_type": "stream",
     "text": [
      "\u001b[1m\u001b[22m`geom_smooth()` using formula = 'y ~ x'\n",
      "\u001b[1m\u001b[22mSmoothing formula not specified. Using: y ~ x\n",
      "\u001b[1m\u001b[22mSmoothing formula not specified. Using: y ~ x\n",
      "\u001b[1m\u001b[22mSmoothing formula not specified. Using: y ~ x\n",
      "\u001b[1m\u001b[22mSmoothing formula not specified. Using: y ~ x\n",
      "\u001b[1m\u001b[22mSmoothing formula not specified. Using: y ~ x\n"
     ]
    },
    {
     "data": {
      "image/png": "[encoded data removed]",
      "text/plain": [
       "plot without title"
      ]
     },
     "metadata": {
      "image/png": {
       "height": 420,
       "width": 420
      }
     },
     "output_type": "display_data"
    }
   ],
   "source": [
    "p1 + geom_quantile( quantiles = 0.05, color = 'cadetblue4' ) +\n",
    "    geom_text( aes( x = 100, y = 1, label = '0.05' ), color = 'cadetblue4' ) +\n",
    "    geom_quantile( quantiles = 0.25, color = 'orchid4' ) +\n",
    "    geom_text( aes( x = 100, y = 10, label = '0.25' ), color = 'orchid4' ) +\n",
    "    geom_quantile( quantiles = 0.50, color = 'indianred4' ) +\n",
    "    geom_text( aes( x = 100, y = 16, label = '0.5' ), color = 'indianred4' ) +\n",
    "    geom_quantile( quantiles = 0.75, col = 'sienna4' ) +\n",
    "    geom_text( aes( x = 100, y = 26, label = '0.75' ), color = 'sienna4') +\n",
    "    geom_quantile( quantiles = 0.95, color = 'seagreen4' ) +\n",
    "    geom_text( aes( x = 100, y = 33, label = '0.95' ), color = 'seagreen4' )"
   ]
  },
  {
   "attachments": {},
   "cell_type": "markdown",
   "metadata": {},
   "source": [
    "## Estimación de los coeficientes de la regresión"
   ]
  },
  {
   "cell_type": "code",
   "execution_count": 24,
   "metadata": {
    "vscode": {
     "languageId": "r"
    }
   },
   "outputs": [
    {
     "name": "stderr",
     "output_type": "stream",
     "text": [
      "Loading required package: SparseM\n",
      "\n",
      "\n",
      "Attaching package: 'SparseM'\n",
      "\n",
      "\n",
      "The following object is masked from 'package:base':\n",
      "\n",
      "    backsolve\n",
      "\n",
      "\n"
     ]
    },
    {
     "data": {
      "text/html": [
       "<table class=\"dataframe\">\n",
       "<caption>A matrix: 2 × 9 of type dbl</caption>\n",
       "<thead>\n",
       "\t<tr><th></th><th scope=col>tau= 0.1</th><th scope=col>tau= 0.2</th><th scope=col>tau= 0.3</th><th scope=col>tau= 0.4</th><th scope=col>tau= 0.5</th><th scope=col>tau= 0.6</th><th scope=col>tau= 0.7</th><th scope=col>tau= 0.8</th><th scope=col>tau= 0.9</th></tr>\n",
       "</thead>\n",
       "<tbody>\n",
       "\t<tr><th scope=row>(Intercept)</th><td>4.917353</td><td>4.950251</td><td>4.965637</td><td>5.072489</td><td>5.011732</td><td>5.017998</td><td>5.529391</td><td>5.422130</td><td>5.203141</td></tr>\n",
       "\t<tr><th scope=row>x</th><td>1.867427</td><td>1.910740</td><td>1.934776</td><td>1.958524</td><td>2.001312</td><td>2.027460</td><td>2.046512</td><td>2.069343</td><td>2.115957</td></tr>\n",
       "</tbody>\n",
       "</table>\n"
      ],
      "text/latex": [
       "A matrix: 2 × 9 of type dbl\n",
       "\\begin{tabular}{r|lllllllll}\n",
       "  & tau= 0.1 & tau= 0.2 & tau= 0.3 & tau= 0.4 & tau= 0.5 & tau= 0.6 & tau= 0.7 & tau= 0.8 & tau= 0.9\\\\\n",
       "\\hline\n",
       "\t(Intercept) & 4.917353 & 4.950251 & 4.965637 & 5.072489 & 5.011732 & 5.017998 & 5.529391 & 5.422130 & 5.203141\\\\\n",
       "\tx & 1.867427 & 1.910740 & 1.934776 & 1.958524 & 2.001312 & 2.027460 & 2.046512 & 2.069343 & 2.115957\\\\\n",
       "\\end{tabular}\n"
      ],
      "text/markdown": [
       "\n",
       "A matrix: 2 × 9 of type dbl\n",
       "\n",
       "| <!--/--> | tau= 0.1 | tau= 0.2 | tau= 0.3 | tau= 0.4 | tau= 0.5 | tau= 0.6 | tau= 0.7 | tau= 0.8 | tau= 0.9 |\n",
       "|---|---|---|---|---|---|---|---|---|---|\n",
       "| (Intercept) | 4.917353 | 4.950251 | 4.965637 | 5.072489 | 5.011732 | 5.017998 | 5.529391 | 5.422130 | 5.203141 |\n",
       "| x | 1.867427 | 1.910740 | 1.934776 | 1.958524 | 2.001312 | 2.027460 | 2.046512 | 2.069343 | 2.115957 |\n",
       "\n"
      ],
      "text/plain": [
       "            tau= 0.1 tau= 0.2 tau= 0.3 tau= 0.4 tau= 0.5 tau= 0.6 tau= 0.7\n",
       "(Intercept) 4.917353 4.950251 4.965637 5.072489 5.011732 5.017998 5.529391\n",
       "x           1.867427 1.910740 1.934776 1.958524 2.001312 2.027460 2.046512\n",
       "            tau= 0.8 tau= 0.9\n",
       "(Intercept) 5.422130 5.203141\n",
       "x           2.069343 2.115957"
      ]
     },
     "metadata": {},
     "output_type": "display_data"
    }
   ],
   "source": [
    "library( quantreg )\n",
    "qs <- seq( 0.1, 0.9, by = 0.1 ) # indicamos los cuantiles que nos interesan\n",
    "qr2 <- rq( y ~ x, data = base, tau = qs )# estimamos estos cuantiles\n",
    "coef( qr2 )# pedimos los coeficientes de las rectas estimadas"
   ]
  },
  {
   "attachments": {},
   "cell_type": "markdown",
   "metadata": {},
   "source": [
    "## Tiempos"
   ]
  },
  {
   "cell_type": "code",
   "execution_count": 30,
   "metadata": {
    "vscode": {
     "languageId": "r"
    }
   },
   "outputs": [
    {
     "data": {
      "image/png": "[encoded data removed]",
      "text/plain": [
       "plot without title"
      ]
     },
     "metadata": {
      "image/png": {
       "height": 420,
       "width": 420
      }
     },
     "output_type": "display_data"
    }
   ],
   "source": [
    "# Cargamos los datos y visualizamos las dos distribuciones\n",
    "tiempos1 <- c( 15.4, 15.5, 15.6, 15.7, 15.8, 15.9, 16.0, 16.0, 38.3, 39.5, 40.0, 43.0, 45.0, 49.0, 48.0 )\n",
    "tiempos2 <- c( 0,1.1,2.7, 3.2, 3.3, 5.4, 7.5, 16, 16.1, 16.1, 16.2, 16.3, 16.4, 16.5, 16.6 )\n",
    "todos <- data.frame( tiempos = c( rep ('1', 15 ), rep( '2', 15 ) ),\n",
    "valor <- c( tiempos1, tiempos2 ) )\n",
    "\n",
    "p1 <- ggplot( todos, aes( x = valor, fill = tiempos ) ) +\n",
    "    geom_density( alpha = 0.3 ) + facet_grid( . ~ tiempos ) +\n",
    "    theme_bw()\n",
    "p1"
   ]
  },
  {
   "cell_type": "code",
   "execution_count": 31,
   "metadata": {
    "vscode": {
     "languageId": "r"
    }
   },
   "outputs": [
    {
     "data": {
      "text/html": [
       "16"
      ],
      "text/latex": [
       "16"
      ],
      "text/markdown": [
       "16"
      ],
      "text/plain": [
       "[1] 16"
      ]
     },
     "metadata": {},
     "output_type": "display_data"
    },
    {
     "data": {
      "text/html": [
       "16"
      ],
      "text/latex": [
       "16"
      ],
      "text/markdown": [
       "16"
      ],
      "text/plain": [
       "[1] 16"
      ]
     },
     "metadata": {},
     "output_type": "display_data"
    },
    {
     "name": "stderr",
     "output_type": "stream",
     "text": [
      "Warning message in wilcox.test.default(tiempos1, tiempos2):\n",
      "\"cannot compute exact p-value with ties\"\n"
     ]
    },
    {
     "data": {
      "text/plain": [
       "\n",
       "\tWilcoxon rank sum test with continuity correction\n",
       "\n",
       "data:  tiempos1 and tiempos2\n",
       "W = 162, p-value = 0.042\n",
       "alternative hypothesis: true location shift is not equal to 0\n"
      ]
     },
     "metadata": {},
     "output_type": "display_data"
    }
   ],
   "source": [
    "# Calculamos la mediana de cada grupo y luego aplicamos la prueba de Mann Whitney-Wilcoxon\n",
    "median( tiempos1 )\n",
    "median( tiempos2 )\n",
    "wilcox.test( tiempos1, tiempos2 )"
   ]
  },
  {
   "cell_type": "code",
   "execution_count": 34,
   "metadata": {
    "vscode": {
     "languageId": "r"
    }
   },
   "outputs": [
    {
     "data": {
      "text/plain": [
       "\n",
       "Call: rq(formula = valor ~ tiempos, tau = 0.5, data = todos)\n",
       "\n",
       "tau: [1] 0.5\n",
       "\n",
       "Coefficients:\n",
       "            Value    Std. Error t value  Pr(>|t|)\n",
       "(Intercept) 16.00000 11.22531    1.42535  0.16511\n",
       "tiempos2     0.00000 12.62348    0.00000  1.00000"
      ]
     },
     "metadata": {},
     "output_type": "display_data"
    }
   ],
   "source": [
    "# Ajustamos un modelo de regresión para la mediana con la predictora categórica del grupo\n",
    "mod_q50 <- rq( valor ~ tiempos, tau = 0.5, data = todos )\n",
    "summary( mod_q50, se = 'boot')"
   ]
  }
 ],
 "metadata": {
  "kernelspec": {
   "display_name": "R",
   "language": "R",
   "name": "ir"
  },
  "language_info": {
   "codemirror_mode": "r",
   "file_extension": ".r",
   "mimetype": "text/x-r-source",
   "name": "R",
   "pygments_lexer": "r",
   "version": "4.2.3"
  },
  "orig_nbformat": 4
 },
 "nbformat": 4,
 "nbformat_minor": 2
}
