{
 "cells": [
  {
   "cell_type": "markdown",
   "metadata": {},
   "source": [
    "## Regresión Avanzada"
   ]
  },
  {
   "attachments": {},
   "cell_type": "markdown",
   "metadata": {},
   "source": [
    "## Clase 4"
   ]
  },
  {
   "cell_type": "code",
   "execution_count": 24,
   "metadata": {
    "vscode": {
     "languageId": "r"
    }
   },
   "outputs": [],
   "source": [
    "suppressMessages( library( ggplot2 ) )\n",
    "suppressMessages( library( carData ) )\n",
    "suppressMessages( library( dplyr ) )\n",
    "suppressMessages( library( tidyverse ) )\n",
    "suppressMessages( library( car ) )\n",
    "suppressMessages( library( MASS ) )\n",
    "suppressMessages( library( pgirmess ) )\n",
    "suppressMessages( library( lsr ) )\n",
    "suppressMessages( library( quantreg ) )"
   ]
  },
  {
   "cell_type": "markdown",
   "metadata": {},
   "source": [
    "## 1. Variables Regresoras Categóricas"
   ]
  },
  {
   "cell_type": "markdown",
   "metadata": {},
   "source": [
    "### Una predictora categórica con dos niveles"
   ]
  },
  {
   "cell_type": "markdown",
   "metadata": {},
   "source": [
    "Usamos los datos Salaries de la biblioteca carData de R."
   ]
  },
  {
   "cell_type": "code",
   "execution_count": 4,
   "metadata": {
    "vscode": {
     "languageId": "r"
    }
   },
   "outputs": [
    {
     "data": {
      "text/plain": [
       "\n",
       "Call:\n",
       "lm(formula = salary ~ sex, data = Salaries)\n",
       "\n",
       "Residuals:\n",
       "   Min     1Q Median     3Q    Max \n",
       "-57290 -23502  -6828  19710 116455 \n",
       "\n",
       "Coefficients:\n",
       "            Estimate Std. Error t value Pr(>|t|)    \n",
       "(Intercept)   101002       4809  21.001  < 2e-16 ***\n",
       "sexMale        14088       5065   2.782  0.00567 ** \n",
       "---\n",
       "Signif. codes:  0 '***' 0.001 '**' 0.01 '*' 0.05 '.' 0.1 ' ' 1\n",
       "\n",
       "Residual standard error: 30030 on 395 degrees of freedom\n",
       "Multiple R-squared:  0.01921,\tAdjusted R-squared:  0.01673 \n",
       "F-statistic: 7.738 on 1 and 395 DF,  p-value: 0.005667\n"
      ]
     },
     "metadata": {},
     "output_type": "display_data"
    }
   ],
   "source": [
    "mod1 <- lm( salary ~ sex, data = Salaries )\n",
    "summary( mod1 )"
   ]
  },
  {
   "cell_type": "markdown",
   "metadata": {},
   "source": [
    "Si queremos cambiar el nivel de base contra el que se contraste"
   ]
  },
  {
   "cell_type": "code",
   "execution_count": 6,
   "metadata": {
    "vscode": {
     "languageId": "r"
    }
   },
   "outputs": [
    {
     "name": "stdout",
     "output_type": "stream",
     "text": [
      "       Female\n",
      "Male        0\n",
      "Female      1\n"
     ]
    }
   ],
   "source": [
    "# Veamos cómo crea automáticamente la dummy\n",
    "print( contrasts( Salaries$sex ) )\n",
    "\n",
    "# Si se desea recodificar el campo Sexo\n",
    "Salaries <- Salaries %>% mutate( sex = relevel( sex, ref = \"Male\" ) )"
   ]
  },
  {
   "cell_type": "code",
   "execution_count": 7,
   "metadata": {
    "vscode": {
     "languageId": "r"
    }
   },
   "outputs": [
    {
     "data": {
      "text/plain": [
       "\n",
       "Call:\n",
       "lm(formula = salary ~ sex, data = Salaries)\n",
       "\n",
       "Residuals:\n",
       "   Min     1Q Median     3Q    Max \n",
       "-57290 -23502  -6828  19710 116455 \n",
       "\n",
       "Coefficients:\n",
       "            Estimate Std. Error t value Pr(>|t|)    \n",
       "(Intercept)   115090       1587  72.503  < 2e-16 ***\n",
       "sexFemale     -14088       5065  -2.782  0.00567 ** \n",
       "---\n",
       "Signif. codes:  0 '***' 0.001 '**' 0.01 '*' 0.05 '.' 0.1 ' ' 1\n",
       "\n",
       "Residual standard error: 30030 on 395 degrees of freedom\n",
       "Multiple R-squared:  0.01921,\tAdjusted R-squared:  0.01673 \n",
       "F-statistic: 7.738 on 1 and 395 DF,  p-value: 0.005667\n"
      ]
     },
     "metadata": {},
     "output_type": "display_data"
    }
   ],
   "source": [
    "# Veamos cómo queda el modelo cuando cambiamos el nivel de base\n",
    "mod2 <- lm( salary ~ sex, data = Salaries )\n",
    "summary( mod2 )"
   ]
  },
  {
   "cell_type": "markdown",
   "metadata": {},
   "source": [
    "Una variable categórica con n niveles, estas son transformadas a n-1 variables. La variable rank de la base Salaries tiene 3 niveles."
   ]
  },
  {
   "cell_type": "code",
   "execution_count": 8,
   "metadata": {
    "vscode": {
     "languageId": "r"
    }
   },
   "outputs": [
    {
     "data": {
      "text/plain": [
       "\n",
       "Call:\n",
       "lm(formula = salary ~ rank, data = Salaries)\n",
       "\n",
       "Residuals:\n",
       "   Min     1Q Median     3Q    Max \n",
       "-68972 -16376  -1580  11755 104773 \n",
       "\n",
       "Coefficients:\n",
       "              Estimate Std. Error t value Pr(>|t|)    \n",
       "(Intercept)      80776       2887  27.976  < 2e-16 ***\n",
       "rankAssocProf    13100       4131   3.171  0.00164 ** \n",
       "rankProf         45996       3230  14.238  < 2e-16 ***\n",
       "---\n",
       "Signif. codes:  0 '***' 0.001 '**' 0.01 '*' 0.05 '.' 0.1 ' ' 1\n",
       "\n",
       "Residual standard error: 23630 on 394 degrees of freedom\n",
       "Multiple R-squared:  0.3943,\tAdjusted R-squared:  0.3912 \n",
       "F-statistic: 128.2 on 2 and 394 DF,  p-value: < 2.2e-16\n"
      ]
     },
     "metadata": {},
     "output_type": "display_data"
    }
   ],
   "source": [
    "mod3 <- lm(salary ~ rank , data = Salaries )\n",
    "summary( mod3 )"
   ]
  },
  {
   "cell_type": "markdown",
   "metadata": {},
   "source": [
    "¿Cómo es la matriz de contraste del factor rank?"
   ]
  },
  {
   "cell_type": "code",
   "execution_count": 13,
   "metadata": {
    "vscode": {
     "languageId": "r"
    }
   },
   "outputs": [
    {
     "name": "stdout",
     "output_type": "stream",
     "text": [
      "  rankAssocProf rankProf\n",
      "1             0        1\n",
      "2             0        1\n",
      "3             0        0\n",
      "4             0        1\n",
      "5             0        1\n",
      "6             1        0\n"
     ]
    }
   ],
   "source": [
    "contr <- model.matrix( ~ rank, data = Salaries )\n",
    "print( head( contr[, -1] ) )"
   ]
  },
  {
   "cell_type": "markdown",
   "metadata": {},
   "source": [
    "### Dos predictoras categóricas"
   ]
  },
  {
   "cell_type": "markdown",
   "metadata": {},
   "source": [
    "A partir de la salida, identificar la cantidad de niveles de cada variable categórica y el nivel base."
   ]
  },
  {
   "cell_type": "code",
   "execution_count": 14,
   "metadata": {
    "vscode": {
     "languageId": "r"
    }
   },
   "outputs": [
    {
     "data": {
      "text/plain": [
       "\n",
       "Call:\n",
       "lm(formula = salary ~ rank + discipline, data = Salaries)\n",
       "\n",
       "Residuals:\n",
       "   Min     1Q Median     3Q    Max \n",
       "-65990 -14049  -1288  10760  97996 \n",
       "\n",
       "Coefficients:\n",
       "              Estimate Std. Error t value Pr(>|t|)    \n",
       "(Intercept)      71944       3135  22.948  < 2e-16 ***\n",
       "rankAssocProf    13762       3961   3.475 0.000569 ***\n",
       "rankProf         47844       3112  15.376  < 2e-16 ***\n",
       "disciplineB      13761       2296   5.993 4.65e-09 ***\n",
       "---\n",
       "Signif. codes:  0 '***' 0.001 '**' 0.01 '*' 0.05 '.' 0.1 ' ' 1\n",
       "\n",
       "Residual standard error: 22650 on 393 degrees of freedom\n",
       "Multiple R-squared:  0.445,\tAdjusted R-squared:  0.4407 \n",
       "F-statistic:   105 on 3 and 393 DF,  p-value: < 2.2e-16\n"
      ]
     },
     "metadata": {},
     "output_type": "display_data"
    }
   ],
   "source": [
    "mod4 <- lm( salary ~ rank + discipline , data = Salaries )\n",
    "summary( mod4 )"
   ]
  },
  {
   "cell_type": "markdown",
   "metadata": {},
   "source": [
    "### Una predictora categórica y otra continua"
   ]
  },
  {
   "cell_type": "code",
   "execution_count": 15,
   "metadata": {
    "vscode": {
     "languageId": "r"
    }
   },
   "outputs": [
    {
     "data": {
      "text/plain": [
       "\n",
       "Call:\n",
       "lm(formula = salary ~ yrs.since.phd + discipline, data = Salaries)\n",
       "\n",
       "Residuals:\n",
       "   Min     1Q Median     3Q    Max \n",
       "-79837 -16607  -4373  15679  93098 \n",
       "\n",
       "Coefficients:\n",
       "              Estimate Std. Error t value Pr(>|t|)    \n",
       "(Intercept)    80158.3     3328.3  24.083  < 2e-16 ***\n",
       "yrs.since.phd   1118.5      105.8  10.576  < 2e-16 ***\n",
       "disciplineB    15784.2     2733.3   5.775 1.56e-08 ***\n",
       "---\n",
       "Signif. codes:  0 '***' 0.001 '**' 0.01 '*' 0.05 '.' 0.1 ' ' 1\n",
       "\n",
       "Residual standard error: 26470 on 394 degrees of freedom\n",
       "Multiple R-squared:  0.2401,\tAdjusted R-squared:  0.2362 \n",
       "F-statistic: 62.24 on 2 and 394 DF,  p-value: < 2.2e-16\n"
      ]
     },
     "metadata": {},
     "output_type": "display_data"
    }
   ],
   "source": [
    "mod5 <- lm( salary ~ yrs.since.phd + discipline , data = Salaries )\n",
    "summary( mod5 )"
   ]
  },
  {
   "cell_type": "markdown",
   "metadata": {},
   "source": [
    "### Predictoras categóricas y continuas con interacción"
   ]
  },
  {
   "cell_type": "code",
   "execution_count": 17,
   "metadata": {
    "vscode": {
     "languageId": "r"
    }
   },
   "outputs": [
    {
     "ename": "ERROR",
     "evalue": "Error in factor(antro$Sexo): objeto 'antro' no encontrado\n",
     "output_type": "error",
     "traceback": [
      "Error in factor(antro$Sexo): objeto 'antro' no encontrado\nTraceback:\n",
      "1. factor(antro$Sexo)"
     ]
    }
   ],
   "source": [
    "antro$Sexo <- factor( antro$Sexo )\n",
    "mod6 <- lm( Peso ~ Estatura*Sexo + Edad_meses , data = antro )\n",
    "summary( mod6 )"
   ]
  },
  {
   "cell_type": "markdown",
   "metadata": {},
   "source": [
    "## 2. Modelo de una vía paramétrico"
   ]
  },
  {
   "cell_type": "markdown",
   "metadata": {},
   "source": [
    "### Ejemplo Té"
   ]
  },
  {
   "cell_type": "code",
   "execution_count": 23,
   "metadata": {
    "vscode": {
     "languageId": "r"
    }
   },
   "outputs": [
    {
     "name": "stdout",
     "output_type": "stream",
     "text": [
      "  Marca.1 Marca.2 Marca.3 Marca.4\n",
      "1     7.9     5.7     6.8     6.4\n",
      "2     6.2     7.5     7.8     7.1\n",
      "3     6.6     9.8     5.1     7.9\n",
      "4     8.6     6.1     7.4     4.5\n",
      "5     8.9     8.4     5.3     5.0\n",
      "6    10.1     7.2     6.1     4.0\n",
      "7     9.6     NaN     NaN     NaN\n"
     ]
    }
   ],
   "source": [
    "te <- data.frame(\n",
    "  \"Marca 1\" = c(7.9, 6.2, 6.6, 8.6, 8.9, 10.1, 9.6),\n",
    "  \"Marca 2\" = c(5.7, 7.5, 9.8, 6.1, 8.4, 7.2, NaN),\n",
    "  \"Marca 3\" = c(6.8, 7.8, 5.1, 7.4, 5.3, 6.1, NaN),\n",
    "  \"Marca 4\" = c(6.4, 7.1, 7.9, 4.5, 5.0, 4.0, NaN)\n",
    ")\n",
    "\n",
    "print(te)"
   ]
  },
  {
   "cell_type": "code",
   "execution_count": 64,
   "metadata": {
    "vscode": {
     "languageId": "r"
    }
   },
   "outputs": [
    {
     "data": {
      "image/png": "[encoded data removed]",
      "text/plain": [
       "plot without title"
      ]
     },
     "metadata": {
      "image/png": {
       "height": 420,
       "width": 420
      }
     },
     "output_type": "display_data"
    }
   ],
   "source": [
    "col <- c(\"lightpink\",\"lightgreen\", \"lightblue\", \"lightyellow\")\n",
    "\n",
    "boxplot( te, col = col )\n",
    "legend(\"topright\", legend = colnames( te ), fill = col )"
   ]
  },
  {
   "cell_type": "markdown",
   "metadata": {},
   "source": [
    "### Tabla de ANOVA"
   ]
  },
  {
   "cell_type": "code",
   "execution_count": 34,
   "metadata": {
    "vscode": {
     "languageId": "r"
    }
   },
   "outputs": [
    {
     "data": {
      "text/plain": [
       "            Df Sum Sq Mean Sq F value Pr(>F)  \n",
       "Category     3  22.93   7.645   3.791 0.0256 *\n",
       "Residuals   21  42.35   2.016                 \n",
       "---\n",
       "Signif. codes:  0 '***' 0.001 '**' 0.01 '*' 0.05 '.' 0.1 ' ' 1\n",
       "3 observations deleted due to missingness"
      ]
     },
     "metadata": {},
     "output_type": "display_data"
    }
   ],
   "source": [
    "df_long <- te %>% gather(Category, Value)\n",
    "anova_te <- aov( Value ~ Category, data = df_long )\n",
    "summary( anova_te )"
   ]
  },
  {
   "cell_type": "markdown",
   "metadata": {},
   "source": [
    "El test F rechaza la igualdad de medias a nivel 0.05. Ahora, antes de tomar una decisión, se debe estudiar si los supuestos del contraste se satisfacen con el objeto de ver si la conclusión es válida. Para ello se realiza el diagnóstico del modelo que será desarrollado luego."
   ]
  },
  {
   "cell_type": "markdown",
   "metadata": {},
   "source": [
    "### Inspección Analítica de la Homocedasticidad"
   ]
  },
  {
   "cell_type": "markdown",
   "metadata": {},
   "source": [
    "### Test de Barlett"
   ]
  },
  {
   "cell_type": "code",
   "execution_count": 36,
   "metadata": {
    "vscode": {
     "languageId": "r"
    }
   },
   "outputs": [
    {
     "data": {
      "text/plain": [
       "\n",
       "\tBartlett test of homogeneity of variances\n",
       "\n",
       "data:  te\n",
       "Bartlett's K-squared = 0.6168, df = 3, p-value = 0.8926\n"
      ]
     },
     "metadata": {},
     "output_type": "display_data"
    }
   ],
   "source": [
    "bartlett.test( te )"
   ]
  },
  {
   "cell_type": "markdown",
   "metadata": {},
   "source": [
    "El test de Bartlett no rechaza la hipotesis de nulidad; es decir, no hay evidencia estadística significativa de que la varianza de alguno de los subgrupos difiera de las otras."
   ]
  },
  {
   "cell_type": "markdown",
   "metadata": {},
   "source": [
    "### Test de Levene"
   ]
  },
  {
   "cell_type": "markdown",
   "metadata": {},
   "source": [
    "Esta prueba es un nuevo ANOVA sobre los valores absolutos de los residuos de las observaciones respecto de la mediana (media), de su grupo."
   ]
  },
  {
   "cell_type": "code",
   "execution_count": 42,
   "metadata": {
    "vscode": {
     "languageId": "r"
    }
   },
   "outputs": [
    {
     "name": "stderr",
     "output_type": "stream",
     "text": [
      "Warning message in leveneTest.default(y = y, group = group, ...):\n",
      "\"group coerced to factor.\"\n"
     ]
    },
    {
     "name": "stdout",
     "output_type": "stream",
     "text": [
      "Levene's Test for Homogeneity of Variance (center = median)\n",
      "      Df F value Pr(>F)\n",
      "group  3  0.2949 0.8286\n",
      "      21               \n"
     ]
    }
   ],
   "source": [
    "print( leveneTest( Value ~ Category, data = df_long ) )"
   ]
  },
  {
   "cell_type": "markdown",
   "metadata": {},
   "source": [
    "Como el p-valor de la prueba es 0.8286, no se rechaza la hipótesis de homocedasticidad. Esto significa que el test de Levene no rechaza la hipótesis nula de homocedasticidad, lo que brinda la misma conclusión que el test de Bartlett. Por lo tanto, podemos suponer que se cumple la hipótesis de homocedasticidad."
   ]
  },
  {
   "cell_type": "markdown",
   "metadata": {},
   "source": [
    "### Análisis de la Normalidad de los residuos"
   ]
  },
  {
   "cell_type": "code",
   "execution_count": 43,
   "metadata": {
    "vscode": {
     "languageId": "r"
    }
   },
   "outputs": [
    {
     "data": {
      "text/plain": [
       "\n",
       "\tShapiro-Wilk normality test\n",
       "\n",
       "data:  anova_te$residuals\n",
       "W = 0.95307, p-value = 0.2937\n"
      ]
     },
     "metadata": {},
     "output_type": "display_data"
    }
   ],
   "source": [
    "shapiro.test( anova_te$residuals )"
   ]
  },
  {
   "cell_type": "markdown",
   "metadata": {},
   "source": [
    "### Gráfico de cuantil-cuantil"
   ]
  },
  {
   "cell_type": "code",
   "execution_count": 44,
   "metadata": {
    "vscode": {
     "languageId": "r"
    }
   },
   "outputs": [
    {
     "data": {
      "text/html": [
       "<style>\n",
       ".dl-inline {width: auto; margin:0; padding: 0}\n",
       ".dl-inline>dt, .dl-inline>dd {float: none; width: auto; display: inline-block}\n",
       ".dl-inline>dt::after {content: \":\\0020\"; padding-right: .5ex}\n",
       ".dl-inline>dt:not(:first-of-type) {padding-left: .5ex}\n",
       "</style><dl class=dl-inline><dt>10</dt><dd>10</dd><dt>24</dt><dd>22</dd></dl>\n"
      ],
      "text/latex": [
       "\\begin{description*}\n",
       "\\item[10] 10\n",
       "\\item[24] 22\n",
       "\\end{description*}\n"
      ],
      "text/markdown": [
       "10\n",
       ":   1024\n",
       ":   22\n",
       "\n"
      ],
      "text/plain": [
       "10 24 \n",
       "10 22 "
      ]
     },
     "metadata": {},
     "output_type": "display_data"
    },
    {
     "data": {
      "image/png": "[encoded data removed]",
      "text/plain": [
       "plot without title"
      ]
     },
     "metadata": {
      "image/png": {
       "height": 420,
       "width": 420
      }
     },
     "output_type": "display_data"
    }
   ],
   "source": [
    "qqPlot( anova_te$residuals )"
   ]
  },
  {
   "cell_type": "markdown",
   "metadata": {},
   "source": [
    "Si los datos fueran normales, los puntos que corresponden a las observaciones deberían posicionarse sobre la recta. Esto en la realidad no ocurrirá nunca, dado que se trata de una muestra aleatoria. Lo que debemos determinar es si el alejamiento observado de los puntos es significativo o no."
   ]
  },
  {
   "cell_type": "markdown",
   "metadata": {},
   "source": [
    "### Ejemplo: Dieta Conejos"
   ]
  },
  {
   "cell_type": "markdown",
   "metadata": {},
   "source": [
    "Luego del experimento, los animales fueron sacrificados. En todos los casos se comprobaron lesiones aterog´enicas en la arteria aorta. Se midió el contenido de colesterol en la aorta en mg/g obteniéndose los siguientes resultados."
   ]
  },
  {
   "cell_type": "code",
   "execution_count": 48,
   "metadata": {
    "vscode": {
     "languageId": "r"
    }
   },
   "outputs": [
    {
     "name": "stdout",
     "output_type": "stream",
     "text": [
      "  Dieta.1 Dieta.2 Dieta.3\n",
      "1    13.4    10.4     7.5\n",
      "2    11.0    14.2     7.2\n",
      "3    15.3    20.5     6.7\n",
      "4    16.7    19.6     7.6\n",
      "5    13.4    18.5    11.2\n",
      "6    20.1    24.0     9.6\n",
      "7    13.6    23.4     6.8\n"
     ]
    }
   ],
   "source": [
    "df <- data.frame(\n",
    "  \"Dieta 1\" = c(13.4, 11.0, 15.3, 16.7, 13.4, 20.1, 13.6),\n",
    "  \"Dieta 2\" = c(10.4, 14.2, 20.5, 19.6, 18.5, 24.0, 23.4),\n",
    "  \"Dieta 3\" = c(7.5, 7.2, 6.7, 7.6, 11.2, 9.6, 6.8)\n",
    ")\n",
    "\n",
    "print( df )"
   ]
  },
  {
   "cell_type": "code",
   "execution_count": 50,
   "metadata": {
    "vscode": {
     "languageId": "r"
    }
   },
   "outputs": [
    {
     "name": "stdout",
     "output_type": "stream",
     "text": [
      "        Treatment            Media Desviación_típica  n\n",
      "Dieta.1   Dieta.1 14.7857142857143  2.93679449481265  7\n",
      "Dieta.2   Dieta.2 18.6571428571429    4.888713921833  7\n",
      "Dieta.3   Dieta.3 8.08571428571429  1.67971085947212  7\n",
      "4         Totales 13.8428571428571  1.61699048492675 21\n"
     ]
    }
   ],
   "source": [
    "summary_stats <- data.frame(\n",
    "  Treatment = colnames(df),\n",
    "  Media = apply(df, 2, mean),\n",
    "  Desviación_típica = apply(df, 2, sd),\n",
    "  n = apply(df, 2, length)\n",
    ")\n",
    "\n",
    "total_row <- c(\"Totales\", Mean = mean(unlist(summary_stats$Media)),\n",
    "               SD = sd(unlist(summary_stats$Desviación_típica)),\n",
    "               n = sum(unlist(summary_stats$n)))\n",
    "summary_stats <- rbind(summary_stats, total_row)\n",
    "\n",
    "print( summary_stats )"
   ]
  },
  {
   "cell_type": "markdown",
   "metadata": {},
   "source": [
    "Realizamos un boxplot para apreciar gráficamente si existen diferencias entre los contenidos medios de colesterol en la aorta de las dietas y, también ver si hay presencia de outliers en las distribuciones o asimetrías y si tiene sentido pensar que las varianzas son iguales."
   ]
  },
  {
   "cell_type": "code",
   "execution_count": 61,
   "metadata": {
    "vscode": {
     "languageId": "r"
    }
   },
   "outputs": [
    {
     "data": {
      "image/png": "[encoded data removed]",
      "text/plain": [
       "plot without title"
      ]
     },
     "metadata": {
      "image/png": {
       "height": 420,
       "width": 420
      }
     },
     "output_type": "display_data"
    }
   ],
   "source": [
    "col <- c(\"lightpink\",\"lightgreen\", \"lightblue\")\n",
    "\n",
    "boxplot( df, col = col )\n",
    "legend(\"topright\", legend = colnames( df ), fill = col )"
   ]
  },
  {
   "cell_type": "markdown",
   "metadata": {},
   "source": [
    "En el boxplot se aprecia que las varianzas no parecen ser similares. No se observan outliers en ninguno de los diagramas de caja. Ahora, para comprobar si estas sospechas tienen significación estadística, vamos a ensayar la prueba de Levene."
   ]
  },
  {
   "cell_type": "code",
   "execution_count": 66,
   "metadata": {
    "vscode": {
     "languageId": "r"
    }
   },
   "outputs": [
    {
     "data": {
      "text/plain": [
       "            Df Sum Sq Mean Sq F value   Pr(>F)    \n",
       "Dieta        2  400.5  200.24      17 7.15e-05 ***\n",
       "Residuals   18  212.1   11.78                     \n",
       "---\n",
       "Signif. codes:  0 '***' 0.001 '**' 0.01 '*' 0.05 '.' 0.1 ' ' 1"
      ]
     },
     "metadata": {},
     "output_type": "display_data"
    }
   ],
   "source": [
    "df_long <- df %>% gather(Dieta, Value)\n",
    "anova_df <- aov( Value ~ Dieta, data = df_long )\n",
    "summary( anova_df )"
   ]
  },
  {
   "cell_type": "markdown",
   "metadata": {},
   "source": [
    "### Análisis de la Normalidad de los Residuos"
   ]
  },
  {
   "cell_type": "markdown",
   "metadata": {},
   "source": [
    "Esta salida indica que las diferencias entre los diámetros aórticos de los conejos sometidos a las distintas dietas son diferentes. Sin embargo, estos resultados sólo serán válidos si se satisfacen los supuestos del modelo de análisis de la varianza."
   ]
  },
  {
   "cell_type": "markdown",
   "metadata": {},
   "source": [
    "### Test Shapiro-Wilk"
   ]
  },
  {
   "cell_type": "code",
   "execution_count": 69,
   "metadata": {
    "vscode": {
     "languageId": "r"
    }
   },
   "outputs": [
    {
     "data": {
      "text/plain": [
       "\n",
       "\tShapiro-Wilk normality test\n",
       "\n",
       "data:  anova_df$residuals\n",
       "W = 0.94686, p-value = 0.2967\n"
      ]
     },
     "metadata": {},
     "output_type": "display_data"
    }
   ],
   "source": [
    "shapiro.test( anova_df$residuals )"
   ]
  },
  {
   "cell_type": "markdown",
   "metadata": {},
   "source": [
    "Esta salida indica que puede sostenerse el supuesto de normalidad distribucional de los residuos."
   ]
  },
  {
   "cell_type": "markdown",
   "metadata": {},
   "source": [
    "### Test Levene"
   ]
  },
  {
   "cell_type": "code",
   "execution_count": 70,
   "metadata": {
    "vscode": {
     "languageId": "r"
    }
   },
   "outputs": [
    {
     "name": "stderr",
     "output_type": "stream",
     "text": [
      "Warning message in leveneTest.default(y = y, group = group, ...):\n",
      "\"group coerced to factor.\"\n"
     ]
    },
    {
     "name": "stdout",
     "output_type": "stream",
     "text": [
      "Levene's Test for Homogeneity of Variance (center = median)\n",
      "      Df F value Pr(>F)\n",
      "group  2  1.8214 0.1904\n",
      "      18               \n"
     ]
    }
   ],
   "source": [
    "print( leveneTest( Value ~ Dieta, data = df_long ) )"
   ]
  },
  {
   "cell_type": "markdown",
   "metadata": {},
   "source": [
    "De esta última salida se interpreta que no es posible suponer homocedasticidad en la distribución de los residuos."
   ]
  },
  {
   "cell_type": "markdown",
   "metadata": {},
   "source": [
    "### Transformación de la Variable Respuesta"
   ]
  },
  {
   "cell_type": "markdown",
   "metadata": {},
   "source": [
    "Para decidir el exponente de la transformación aplicamos el test de Box & Cox."
   ]
  },
  {
   "cell_type": "code",
   "execution_count": 78,
   "metadata": {
    "vscode": {
     "languageId": "r"
    }
   },
   "outputs": [
    {
     "data": {
      "image/png": "[encoded data removed]",
      "text/plain": [
       "plot without title"
      ]
     },
     "metadata": {
      "image/png": {
       "height": 420,
       "width": 420
      }
     },
     "output_type": "display_data"
    }
   ],
   "source": [
    "bc <- boxcox( Value ~ Dieta, lambda = -2:2, data = df_long )"
   ]
  },
  {
   "cell_type": "markdown",
   "metadata": {},
   "source": [
    "La salida de este test sugiere una transformación de la variable respuesta con un exponente cercano a −0.5."
   ]
  },
  {
   "cell_type": "code",
   "execution_count": 77,
   "metadata": {
    "vscode": {
     "languageId": "r"
    }
   },
   "outputs": [
    {
     "data": {
      "text/html": [
       "-0.343434343434343"
      ],
      "text/latex": [
       "-0.343434343434343"
      ],
      "text/markdown": [
       "-0.343434343434343"
      ],
      "text/plain": [
       "[1] -0.3434343"
      ]
     },
     "metadata": {},
     "output_type": "display_data"
    }
   ],
   "source": [
    "lambda <- bc$x[ which.max(bc$y) ]\n",
    "lambda"
   ]
  },
  {
   "cell_type": "markdown",
   "metadata": {},
   "source": [
    "Realizamos la transformación sugerida y un nuevo análisis de la varianza, que origina nuevas salidas."
   ]
  },
  {
   "cell_type": "code",
   "execution_count": 79,
   "metadata": {
    "vscode": {
     "languageId": "r"
    }
   },
   "outputs": [
    {
     "data": {
      "text/plain": [
       "            Df Sum Sq Mean Sq F value   Pr(>F)    \n",
       "Dieta        2 0.4642 0.23210   25.18 6.08e-06 ***\n",
       "Residuals   18 0.1659 0.00922                     \n",
       "---\n",
       "Signif. codes:  0 '***' 0.001 '**' 0.01 '*' 0.05 '.' 0.1 ' ' 1"
      ]
     },
     "metadata": {},
     "output_type": "display_data"
    }
   ],
   "source": [
    "#Arreglar la transformación\n",
    "anova_df2 <- aov( ( ( Value^(lambda) - 1 ) / lambda ) ~ Dieta, data = df_long )\n",
    "summary( anova_df2 )"
   ]
  },
  {
   "cell_type": "markdown",
   "metadata": {},
   "source": [
    "En esta salida se aprecia que las diferencias siguen siendo significativas aín con los datos transformados. Falta realizar el análisis diagnóstico del modelo para los nuevos datos."
   ]
  },
  {
   "cell_type": "markdown",
   "metadata": {},
   "source": [
    "### Supuesto de Normalidad"
   ]
  },
  {
   "cell_type": "code",
   "execution_count": 80,
   "metadata": {
    "vscode": {
     "languageId": "r"
    }
   },
   "outputs": [
    {
     "data": {
      "text/plain": [
       "\n",
       "\tShapiro-Wilk normality test\n",
       "\n",
       "data:  anova_df2$residuals\n",
       "W = 0.97672, p-value = 0.8717\n"
      ]
     },
     "metadata": {},
     "output_type": "display_data"
    }
   ],
   "source": [
    "shapiro.test( anova_df2$residuals )"
   ]
  },
  {
   "cell_type": "markdown",
   "metadata": {},
   "source": [
    "Se cumple el supuesto de normalidad requerido para el modelo de análisis de la varianza para los datos transformados."
   ]
  },
  {
   "cell_type": "markdown",
   "metadata": {},
   "source": [
    "### Supuesto de homocedasticidad"
   ]
  },
  {
   "cell_type": "code",
   "execution_count": 82,
   "metadata": {
    "vscode": {
     "languageId": "r"
    }
   },
   "outputs": [
    {
     "name": "stderr",
     "output_type": "stream",
     "text": [
      "Warning message in leveneTest.default(y = y, group = group, ...):\n",
      "\"group coerced to factor.\"\n"
     ]
    },
    {
     "name": "stdout",
     "output_type": "stream",
     "text": [
      "Levene's Test for Homogeneity of Variance (center = median)\n",
      "      Df F value Pr(>F)\n",
      "group  2  0.1987 0.8216\n",
      "      18               \n"
     ]
    }
   ],
   "source": [
    "print( leveneTest( anova_df2 ) )"
   ]
  },
  {
   "cell_type": "markdown",
   "metadata": {},
   "source": [
    "También se cumple el supuesto de homocedasticidad, se testearon los residuos respecto de la mediana."
   ]
  },
  {
   "cell_type": "markdown",
   "metadata": {},
   "source": [
    "Nos preguntamos por último, cuáles son las dietas que difieren entre sí. Realizamos comparaciones a posteriori con intervalos de Tukey."
   ]
  },
  {
   "cell_type": "markdown",
   "metadata": {},
   "source": [
    "### Tukey"
   ]
  },
  {
   "cell_type": "code",
   "execution_count": 86,
   "metadata": {
    "vscode": {
     "languageId": "r"
    }
   },
   "outputs": [
    {
     "data": {
      "text/plain": [
       "  Tukey multiple comparisons of means\n",
       "    95% family-wise confidence level\n",
       "\n",
       "Fit: aov(formula = ((Value^(lambda) - 1)/lambda) ~ Dieta, data = df_long)\n",
       "\n",
       "$Dieta\n",
       "                       diff         lwr        upr     p adj\n",
       "Dieta.2-Dieta.1  0.07937528 -0.05158837  0.2103389 0.2936005\n",
       "Dieta.3-Dieta.1 -0.26811760 -0.39908125 -0.1371540 0.0001616\n",
       "Dieta.3-Dieta.2 -0.34749288 -0.47845653 -0.2165292 0.0000069\n"
      ]
     },
     "metadata": {},
     "output_type": "display_data"
    }
   ],
   "source": [
    "TukeyHSD( anova_df2 )"
   ]
  },
  {
   "cell_type": "markdown",
   "metadata": {},
   "source": [
    "De donde se puede apreciar que la Dieta 3 produce niveles de colesterol inferiores a los de las otras dos dietas. Más aún, los dos últimos intervalos no contienen al 0, lo cual indica que la Dieta 3 es diferente de las Dietas 1 y 2."
   ]
  },
  {
   "cell_type": "markdown",
   "metadata": {},
   "source": [
    "## Ejemplo: Calificaciones"
   ]
  },
  {
   "cell_type": "code",
   "execution_count": 97,
   "metadata": {
    "vscode": {
     "languageId": "r"
    }
   },
   "outputs": [
    {
     "name": "stdout",
     "output_type": "stream",
     "text": [
      "    A   B  C\n",
      "1  13  43 33\n",
      "2  27  35 33\n",
      "3  26  47 33\n",
      "4  22  32 26\n",
      "5  28  31 44\n",
      "6  27  37 33\n",
      "7 NaN NaN 54\n"
     ]
    }
   ],
   "source": [
    "df <- data.frame(\n",
    "  \"A\" = c(13, 27, 26, 22, 28, 27, NaN),\n",
    "  \"B\" = c(43, 35, 47, 32, 31, 37, NaN),\n",
    "  \"C\" = c(33, 33, 33, 26, 44, 33, 54)\n",
    ")\n",
    "\n",
    "print( df )"
   ]
  },
  {
   "cell_type": "code",
   "execution_count": 100,
   "metadata": {
    "vscode": {
     "languageId": "r"
    }
   },
   "outputs": [
    {
     "data": {
      "image/png": "[encoded data removed]",
      "text/plain": [
       "plot without title"
      ]
     },
     "metadata": {
      "image/png": {
       "height": 420,
       "width": 420
      }
     },
     "output_type": "display_data"
    }
   ],
   "source": [
    "col <- c(\"lightpink\", \"lightblue\", \"lightgreen\" )\n",
    "\n",
    "boxplot( df, col = col )\n",
    "legend(\"topright\", legend = colnames( df ), fill = col )"
   ]
  },
  {
   "cell_type": "markdown",
   "metadata": {},
   "source": [
    "Estos datos son esencialmente discretos. Además se rechaza la hipótesis de normalidad Por ende, aplicamos un análisis no paramétrico mediante el test de Kruskal-Wallis."
   ]
  },
  {
   "cell_type": "markdown",
   "metadata": {},
   "source": [
    "## Ejemplo: Calificaciones"
   ]
  },
  {
   "cell_type": "markdown",
   "metadata": {},
   "source": [
    "Los datos ordenados y sus rankeamientos:"
   ]
  },
  {
   "cell_type": "code",
   "execution_count": 1,
   "metadata": {
    "vscode": {
     "languageId": "r"
    }
   },
   "outputs": [
    {
     "name": "stdout",
     "output_type": "stream",
     "text": [
      "    X G  Rgo\n",
      "1  13 A  1.0\n",
      "2  22 A  2.0\n",
      "3  26 A  3.5\n",
      "4  27 A  5.5\n",
      "5  27 A  5.5\n",
      "6  28 A  7.0\n",
      "7  31 A  8.0\n",
      "8  32 B  9.0\n",
      "9  35 B 14.0\n",
      "10 37 B 15.0\n",
      "11 43 B 16.0\n",
      "12 47 B 18.0\n",
      "13 26 C  3.5\n",
      "14 33 C 11.5\n",
      "15 33 C 11.5\n",
      "16 33 C 11.5\n",
      "17 33 C 11.5\n",
      "18 44 C 17.0\n",
      "19 54 C 19.0\n",
      "20 33 C 11.5\n",
      "21 44 C 17.0\n"
     ]
    }
   ],
   "source": [
    "# Create the dataframe\n",
    "df <- data.frame(\n",
    "  X = c(13, 22, 26, 27, 27, 28, 31, 32, 35, 37, 43, 47, 26, 33, 33, 33, 33, 44, 54, 33, 44),\n",
    "  G = c(\"A\", \"A\", \"A\", \"A\", \"A\", \"A\", \"A\", \"B\", \"B\", \"B\", \"B\", \"B\", \"C\", \"C\", \"C\", \"C\", \"C\", \"C\", \"C\", \"C\", \"C\"),\n",
    "  Rgo = c(1, 2, 3.5, 5.5, 5.5, 7, 8, 9, 14, 15, 16, 18, 3.5, 11.5, 11.5, 11.5, 11.5, 17, 19, 11.5, 17)\n",
    ")\n",
    "\n",
    "# Print the dataframe\n",
    "print(df)"
   ]
  },
  {
   "cell_type": "code",
   "execution_count": 5,
   "metadata": {
    "vscode": {
     "languageId": "r"
    }
   },
   "outputs": [
    {
     "name": "stdout",
     "output_type": "stream",
     "text": [
      "Multiple comparison test after Kruskal-Wallis \n",
      "alpha: 0.05 \n",
      "Comparisons\n",
      "      obs.dif critical.dif stat.signif\n",
      "A-B 10.757143     8.697761        TRUE\n",
      "A-C  8.857143     7.485840        TRUE\n",
      "B-C  1.900000     8.285307       FALSE\n"
     ]
    }
   ],
   "source": [
    "print( kruskalmc( df$Rgo ~ df$G ) )"
   ]
  },
  {
   "cell_type": "markdown",
   "metadata": {},
   "source": [
    "A partir de esta última salida, surge que las diferencias de las distribuciones son estadísticamente significativas y que el grupo A difiere\n",
    "significativamente de los grupos B y C, mientras que los grupos B y C no difieren significativamente entre sí."
   ]
  },
  {
   "cell_type": "markdown",
   "metadata": {},
   "source": [
    "## 3. Dos Factores Cruzados"
   ]
  },
  {
   "cell_type": "markdown",
   "metadata": {},
   "source": [
    "## Ejemplo: Resistencia"
   ]
  },
  {
   "cell_type": "markdown",
   "metadata": {},
   "source": [
    "Una empresa de materiales de construcción quiere estudiar la influencia que tienen el grosor y el tipo de templado sobre la resistencia máxima de\n",
    "unas láminas de acero. Para ello miden el estrés hasta la rotura (variable cuantitativa dependiente) para dos tipos de templado (lento y rápido) y\n",
    "tres grosores de lámina (8mm, 16mm y 24 mm)."
   ]
  },
  {
   "cell_type": "code",
   "execution_count": 7,
   "metadata": {
    "vscode": {
     "languageId": "r"
    }
   },
   "outputs": [
    {
     "name": "stdout",
     "output_type": "stream",
     "text": [
      "  templado grosor resistencia\n",
      "1   rapido      8       15.29\n",
      "2   rapido      8       15.89\n",
      "3   rapido      8       16.02\n",
      "4   rapido      8       16.56\n",
      "5   rapido      8       15.46\n",
      "6   rapido     16       16.91\n"
     ]
    }
   ],
   "source": [
    "resistencia <- c(\n",
    "    15.29, 15.89, 16.02, 16.56, 15.46, 16.91, 16.99, 17.27, 16.85, 16.35, \n",
    "    17.23, 17.81, 17.74, 18.02, 18.37, 12.07, 12.42, 12.73, 13.02, 12.05, \n",
    "    12.92, 13.01, 12.21, 13.49, 14.01, 13.30, 12.82, 12.49, 13.55, 14.53\n",
    ")\n",
    "\n",
    "templado <- c( rep( c( \"rapido\", \"lento\" ), c( 15, 15 ) ) )\n",
    "grosor<- rep( c( 8, 16, 24 ), each = 5, times = 2)\n",
    "datos<- data.frame( templado = templado, grosor = as.factor( grosor ), resistencia = resistencia )\n",
    "print( head( datos ) )"
   ]
  },
  {
   "cell_type": "code",
   "execution_count": 11,
   "metadata": {
    "vscode": {
     "languageId": "r"
    }
   },
   "outputs": [
    {
     "data": {
      "image/png": "[encoded data removed]",
      "text/plain": [
       "plot without title"
      ]
     },
     "metadata": {
      "image/png": {
       "height": 420,
       "width": 420
      }
     },
     "output_type": "display_data"
    }
   ],
   "source": [
    "suppressMessages( library( gridExtra) )\n",
    "\n",
    "p1 <- ggplot( data = datos, aes( x = templado, y = resistencia, fill = templado ) ) + \n",
    "geom_boxplot() +\n",
    "theme_bw() +\n",
    "scale_fill_brewer( palette = 'Dark2' )\n",
    "\n",
    "p2 <- ggplot( data = datos, aes( x = grosor, y = resistencia, fill = grosor ) ) + \n",
    "geom_boxplot() + \n",
    "theme_bw() +\n",
    "scale_fill_brewer( palette = 'Dark2' )\n",
    "\n",
    "p3 <- ggplot( data = datos, aes( x = templado, y = resistencia, colour = grosor ) ) + \n",
    "geom_boxplot() +\n",
    "theme_bw()+\n",
    "scale_fill_brewer( palette = 'Dark2' )\n",
    "\n",
    "grid.arrange( p1, p2, ncol = 2 )"
   ]
  },
  {
   "cell_type": "markdown",
   "metadata": {},
   "source": [
    "En primer lugar se generan los diagramas “Boxplot” para identificar posibles diferencias significativas, asimetrías, valores atípicos y\n",
    "homogeneidad de varianza entre los distintos niveles."
   ]
  },
  {
   "cell_type": "markdown",
   "metadata": {},
   "source": [
    "### Visualizando los efectos de ambos factores simultaneamente"
   ]
  },
  {
   "cell_type": "code",
   "execution_count": 12,
   "metadata": {
    "vscode": {
     "languageId": "r"
    }
   },
   "outputs": [
    {
     "data": {
      "image/png": "[encoded data removed]",
      "text/plain": [
       "plot without title"
      ]
     },
     "metadata": {
      "image/png": {
       "height": 420,
       "width": 420
      }
     },
     "output_type": "display_data"
    }
   ],
   "source": [
    "p3"
   ]
  },
  {
   "cell_type": "markdown",
   "metadata": {},
   "source": [
    "### Resúmenes Básicos de la Variable objetivo por Factores"
   ]
  },
  {
   "cell_type": "code",
   "execution_count": 15,
   "metadata": {
    "vscode": {
     "languageId": "r"
    }
   },
   "outputs": [
    {
     "data": {
      "text/html": [
       "<style>\n",
       ".dl-inline {width: auto; margin:0; padding: 0}\n",
       ".dl-inline>dt, .dl-inline>dd {float: none; width: auto; display: inline-block}\n",
       ".dl-inline>dt::after {content: \":\\0020\"; padding-right: .5ex}\n",
       ".dl-inline>dt:not(:first-of-type) {padding-left: .5ex}\n",
       "</style><dl class=dl-inline><dt>lento</dt><dd>12.9746666666667</dd><dt>rapido</dt><dd>16.8506666666667</dd></dl>\n"
      ],
      "text/latex": [
       "\\begin{description*}\n",
       "\\item[lento] 12.9746666666667\n",
       "\\item[rapido] 16.8506666666667\n",
       "\\end{description*}\n"
      ],
      "text/markdown": [
       "lento\n",
       ":   12.9746666666667rapido\n",
       ":   16.8506666666667\n",
       "\n"
      ],
      "text/plain": [
       "   lento   rapido \n",
       "12.97467 16.85067 "
      ]
     },
     "metadata": {},
     "output_type": "display_data"
    },
    {
     "data": {
      "text/html": [
       "<style>\n",
       ".dl-inline {width: auto; margin:0; padding: 0}\n",
       ".dl-inline>dt, .dl-inline>dd {float: none; width: auto; display: inline-block}\n",
       ".dl-inline>dt::after {content: \":\\0020\"; padding-right: .5ex}\n",
       ".dl-inline>dt:not(:first-of-type) {padding-left: .5ex}\n",
       "</style><dl class=dl-inline><dt>lento</dt><dd>0.711345472293442</dd><dt>rapido</dt><dd>0.927642685726003</dd></dl>\n"
      ],
      "text/latex": [
       "\\begin{description*}\n",
       "\\item[lento] 0.711345472293442\n",
       "\\item[rapido] 0.927642685726003\n",
       "\\end{description*}\n"
      ],
      "text/markdown": [
       "lento\n",
       ":   0.711345472293442rapido\n",
       ":   0.927642685726003\n",
       "\n"
      ],
      "text/plain": [
       "    lento    rapido \n",
       "0.7113455 0.9276427 "
      ]
     },
     "metadata": {},
     "output_type": "display_data"
    },
    {
     "data": {
      "text/html": [
       "<style>\n",
       ".dl-inline {width: auto; margin:0; padding: 0}\n",
       ".dl-inline>dt, .dl-inline>dd {float: none; width: auto; display: inline-block}\n",
       ".dl-inline>dt::after {content: \":\\0020\"; padding-right: .5ex}\n",
       ".dl-inline>dt:not(:first-of-type) {padding-left: .5ex}\n",
       "</style><dl class=dl-inline><dt>8</dt><dd>14.151</dd><dt>16</dt><dd>15.001</dd><dt>24</dt><dd>15.586</dd></dl>\n"
      ],
      "text/latex": [
       "\\begin{description*}\n",
       "\\item[8] 14.151\n",
       "\\item[16] 15.001\n",
       "\\item[24] 15.586\n",
       "\\end{description*}\n"
      ],
      "text/markdown": [
       "8\n",
       ":   14.15116\n",
       ":   15.00124\n",
       ":   15.586\n",
       "\n"
      ],
      "text/plain": [
       "     8     16     24 \n",
       "14.151 15.001 15.586 "
      ]
     },
     "metadata": {},
     "output_type": "display_data"
    },
    {
     "data": {
      "text/html": [
       "<style>\n",
       ".dl-inline {width: auto; margin:0; padding: 0}\n",
       ".dl-inline>dt, .dl-inline>dd {float: none; width: auto; display: inline-block}\n",
       ".dl-inline>dt::after {content: \":\\0020\"; padding-right: .5ex}\n",
       ".dl-inline>dt:not(:first-of-type) {padding-left: .5ex}\n",
       "</style><dl class=dl-inline><dt>8</dt><dd>1.83699301395877</dd><dt>16</dt><dd>2.03679732259578</dd><dt>24</dt><dd>2.44235405568753</dd></dl>\n"
      ],
      "text/latex": [
       "\\begin{description*}\n",
       "\\item[8] 1.83699301395877\n",
       "\\item[16] 2.03679732259578\n",
       "\\item[24] 2.44235405568753\n",
       "\\end{description*}\n"
      ],
      "text/markdown": [
       "8\n",
       ":   1.8369930139587716\n",
       ":   2.0367973225957824\n",
       ":   2.44235405568753\n",
       "\n"
      ],
      "text/plain": [
       "       8       16       24 \n",
       "1.836993 2.036797 2.442354 "
      ]
     },
     "metadata": {},
     "output_type": "display_data"
    },
    {
     "name": "stdout",
     "output_type": "stream",
     "text": [
      "            8     16     24\n",
      "lento  12.458 13.128 13.338\n",
      "rapido 15.844 16.874 17.834\n",
      "               8        16        24\n",
      "lento  0.4207969 0.6724730 0.7833709\n",
      "rapido 0.5000300 0.3341856 0.4171690\n"
     ]
    }
   ],
   "source": [
    "with( data = datos, expr = tapply( resistencia, templado, mean ) )\n",
    "with( data = datos, expr = tapply( resistencia, templado, sd ) )\n",
    "with( data = datos, expr = tapply( resistencia, grosor, mean ) )\n",
    "with( data = datos, expr = tapply( resistencia, grosor, sd ) )\n",
    "\n",
    "print( with( data = datos, expr = tapply( resistencia, list( templado, grosor ), mean ) ) )\n",
    "print( with( data = datos, expr = tapply( resistencia, list( templado, grosor ), sd ) ) )"
   ]
  },
  {
   "attachments": {},
   "cell_type": "markdown",
   "metadata": {},
   "source": [
    "## Gráfico de Interacción"
   ]
  },
  {
   "cell_type": "code",
   "execution_count": 16,
   "metadata": {
    "vscode": {
     "languageId": "r"
    }
   },
   "outputs": [
    {
     "data": {
      "image/png": "[encoded data removed]",
      "text/plain": [
       "plot without title"
      ]
     },
     "metadata": {
      "image/png": {
       "height": 420,
       "width": 420
      }
     },
     "output_type": "display_data"
    }
   ],
   "source": [
    "ggplot( data = datos, \n",
    "    aes( x = templado, y = resistencia, colour = grosor, group = grosor) ) +\n",
    "    stat_summary( fun = mean, geom = 'point' ) +\n",
    "    stat_summary( fun = mean, geom = 'line' ) +\n",
    "    labs( y =  'mean (resistencia)' ) + \n",
    "    theme_bw()"
   ]
  },
  {
   "cell_type": "code",
   "execution_count": 10,
   "metadata": {
    "vscode": {
     "languageId": "r"
    }
   },
   "outputs": [
    {
     "data": {
      "image/png": "[encoded data removed]",
      "text/plain": [
       "plot without title"
      ]
     },
     "metadata": {
      "image/png": {
       "height": 420,
       "width": 420
      }
     },
     "output_type": "display_data"
    }
   ],
   "source": [
    "ggplot( data = datos, \n",
    "    aes( x = grosor, y = resistencia, colour = templado, group = templado ) ) +\n",
    "    stat_summary( fun = mean, geom = 'point' ) +\n",
    "    stat_summary( fun = mean, geom = 'line' ) +\n",
    "    labs( y = 'mean (resistencia)') +\n",
    "    theme_bw()"
   ]
  },
  {
   "cell_type": "markdown",
   "metadata": {},
   "source": [
    "### Estimamos los coeficientes del Modelo"
   ]
  },
  {
   "cell_type": "code",
   "execution_count": 18,
   "metadata": {
    "vscode": {
     "languageId": "r"
    }
   },
   "outputs": [
    {
     "data": {
      "text/plain": [
       "                Df Sum Sq Mean Sq F value   Pr(>F)    \n",
       "templado         1 112.68  112.68 380.082 3.19e-16 ***\n",
       "grosor           2  10.41    5.21  17.563 2.00e-05 ***\n",
       "templado:grosor  2   1.60    0.80   2.705   0.0873 .  \n",
       "Residuals       24   7.11    0.30                     \n",
       "---\n",
       "Signif. codes:  0 '***' 0.001 '**' 0.01 '*' 0.05 '.' 0.1 ' ' 1"
      ]
     },
     "metadata": {},
     "output_type": "display_data"
    }
   ],
   "source": [
    "anova <- aov( resistencia ~ templado * grosor, data = datos )\n",
    "summary( anova )"
   ]
  },
  {
   "cell_type": "markdown",
   "metadata": {},
   "source": [
    "El análisis de varianza confirma que existe una influencia significativasobre la resistencia de las láminas por parte de ambos factores (templado y grosor) con tamaños de efecto η2 grande y mediano respectivamente, pero que no existe interacción significativa entre ellos."
   ]
  },
  {
   "cell_type": "markdown",
   "metadata": {},
   "source": [
    "### ETA Cuadrado"
   ]
  },
  {
   "cell_type": "code",
   "execution_count": 20,
   "metadata": {
    "vscode": {
     "languageId": "r"
    }
   },
   "outputs": [
    {
     "name": "stdout",
     "output_type": "stream",
     "text": [
      "                    eta.sq eta.sq.part\n",
      "templado        0.85485219   0.9406061\n",
      "grosor          0.07900327   0.5940887\n",
      "templado:grosor 0.01216553   0.1839235\n"
     ]
    }
   ],
   "source": [
    "print( etaSquared( anova ) )"
   ]
  },
  {
   "attachments": {},
   "cell_type": "markdown",
   "metadata": {},
   "source": [
    "## 4. Regresión de Cuantiles"
   ]
  },
  {
   "cell_type": "markdown",
   "metadata": {},
   "source": [
    "## Ejemplo Simulado"
   ]
  },
  {
   "cell_type": "code",
   "execution_count": 23,
   "metadata": {
    "vscode": {
     "languageId": "r"
    }
   },
   "outputs": [
    {
     "name": "stderr",
     "output_type": "stream",
     "text": [
      "\u001b[1m\u001b[22m`geom_smooth()` using formula = 'y ~ x'\n"
     ]
    },
    {
     "data": {
      "image/png": "[encoded data removed]",
      "text/plain": [
       "plot without title"
      ]
     },
     "metadata": {
      "image/png": {
       "height": 420,
       "width": 420
      }
     },
     "output_type": "display_data"
    }
   ],
   "source": [
    "# Generamos una base de datos con varianza no constante\n",
    "\n",
    "set.seed( 3 ) # fijamos una semilla para replicabilidad\n",
    "x <- seq( 0, 100, length.out = 150 ) # variable independiente\n",
    "dst <- 0.2 + 0.1 * x # varianza no constante\n",
    "b0 <- 5 # intercepto teórico\n",
    "b1 <- 2 # pendiente teórica\n",
    "err <- rnorm( 150, mean = 0, sd = dst ) # errores normales\n",
    "y <- b0 + b1 * x + err # variable dependiente\n",
    "base <- data.frame( x,y ) # armamos la base de datos\n",
    "\n",
    "p1 <- ggplot( base, aes( x, y )) + \n",
    "    geom_point( color = 'aquamarine3' ) +\n",
    "    geom_smooth( method = 'lm', level = 0.95 ) + \n",
    "    theme_bw() \n",
    "p1"
   ]
  },
  {
   "cell_type": "markdown",
   "metadata": {},
   "source": [
    "### Estimamos y visualizamos los cuantiles"
   ]
  },
  {
   "cell_type": "code",
   "execution_count": 23,
   "metadata": {
    "vscode": {
     "languageId": "r"
    }
   },
   "outputs": [
    {
     "name": "stderr",
     "output_type": "stream",
     "text": [
      "\u001b[1m\u001b[22m`geom_smooth()` using formula = 'y ~ x'\n",
      "\u001b[1m\u001b[22mSmoothing formula not specified. Using: y ~ x\n",
      "\u001b[1m\u001b[22mSmoothing formula not specified. Using: y ~ x\n",
      "\u001b[1m\u001b[22mSmoothing formula not specified. Using: y ~ x\n",
      "\u001b[1m\u001b[22mSmoothing formula not specified. Using: y ~ x\n",
      "\u001b[1m\u001b[22mSmoothing formula not specified. Using: y ~ x\n"
     ]
    },
    {
     "data": {
      "image/png": "[encoded data removed]",
      "text/plain": [
       "plot without title"
      ]
     },
     "metadata": {
      "image/png": {
       "height": 420,
       "width": 420
      }
     },
     "output_type": "display_data"
    }
   ],
   "source": [
    "p1 + geom_quantile( quantiles = 0.05, color = 'cadetblue4' ) +\n",
    "    geom_text( aes( x = 100, y = 1, label = '0.05' ), color = 'cadetblue4' ) +\n",
    "    geom_quantile( quantiles = 0.25, color = 'orchid4' ) +\n",
    "    geom_text( aes( x = 100, y = 10, label = '0.25' ), color = 'orchid4' ) +\n",
    "    geom_quantile( quantiles = 0.50, color = 'indianred4' ) +\n",
    "    geom_text( aes( x = 100, y = 16, label = '0.5' ), color = 'indianred4' ) +\n",
    "    geom_quantile( quantiles = 0.75, col = 'sienna4' ) +\n",
    "    geom_text( aes( x = 100, y = 26, label = '0.75' ), color = 'sienna4') +\n",
    "    geom_quantile( quantiles = 0.95, color = 'seagreen4' ) +\n",
    "    geom_text( aes( x = 100, y = 33, label = '0.95' ), color = 'seagreen4' )"
   ]
  },
  {
   "attachments": {},
   "cell_type": "markdown",
   "metadata": {},
   "source": [
    "### Estimación de los coeficientes de la regresión"
   ]
  },
  {
   "cell_type": "markdown",
   "metadata": {},
   "source": [
    "Si estamos interesados en la estimación de los coeficientes de la regresión:"
   ]
  },
  {
   "cell_type": "code",
   "execution_count": 27,
   "metadata": {
    "vscode": {
     "languageId": "r"
    }
   },
   "outputs": [
    {
     "name": "stdout",
     "output_type": "stream",
     "text": [
      "         (Intercept)        x\n",
      "tau= 0.1    4.917353 1.867427\n",
      "tau= 0.2    4.950251 1.910740\n",
      "tau= 0.3    4.965637 1.934776\n",
      "tau= 0.4    5.072489 1.958524\n",
      "tau= 0.5    5.011732 2.001312\n",
      "tau= 0.6    5.017998 2.027460\n",
      "tau= 0.7    5.529391 2.046512\n",
      "tau= 0.8    5.422130 2.069343\n",
      "tau= 0.9    5.203141 2.115957\n"
     ]
    }
   ],
   "source": [
    "# Indicamos los cuantiles que nos interesan\n",
    "qs <- seq( 0.1, 0.9, by = 0.1 )\n",
    "\n",
    "# Estimamos estos cuantiles\n",
    "qr2 <- rq( y ~ x, data = base, tau = qs )\n",
    "\n",
    "# Pedimos los coeficientes de las rectas estimadas\n",
    "print( t(coef( qr2 )) )"
   ]
  },
  {
   "attachments": {},
   "cell_type": "markdown",
   "metadata": {},
   "source": [
    "## Ejemplo: Tiempos"
   ]
  },
  {
   "cell_type": "markdown",
   "metadata": {},
   "source": [
    "Supóngase que se dispone de dos grupos de estudiantes a los que se le asignó la misma tarea y se registró en cada caso el tiempo que tardaron en resolverla. Queremos comparar los tiempos medianos de las muestras correspondientes a ambos grupos."
   ]
  },
  {
   "cell_type": "code",
   "execution_count": 30,
   "metadata": {
    "vscode": {
     "languageId": "r"
    }
   },
   "outputs": [
    {
     "data": {
      "image/png": "[encoded data removed]",
      "text/plain": [
       "plot without title"
      ]
     },
     "metadata": {
      "image/png": {
       "height": 420,
       "width": 420
      }
     },
     "output_type": "display_data"
    }
   ],
   "source": [
    "# Cargamos los datos y visualizamos las dos distribuciones\n",
    "tiempos1 <- c( 15.4, 15.5, 15.6, 15.7, 15.8, 15.9, 16.0, 16.0, 38.3, 39.5, 40.0, 43.0, 45.0, 49.0, 48.0 )\n",
    "tiempos2 <- c( 0,1.1,2.7, 3.2, 3.3, 5.4, 7.5, 16, 16.1, 16.1, 16.2, 16.3, 16.4, 16.5, 16.6 )\n",
    "todos <- data.frame( tiempos = c( rep ('1', 15 ), rep( '2', 15 ) ),\n",
    "valor <- c( tiempos1, tiempos2 ) )\n",
    "\n",
    "p1 <- ggplot( todos, aes( x = valor, fill = tiempos ) ) +\n",
    "    geom_density( alpha = 0.3 ) + facet_grid( . ~ tiempos ) +\n",
    "    theme_bw()\n",
    "p1"
   ]
  },
  {
   "cell_type": "markdown",
   "metadata": {},
   "source": [
    "El segundo grupo es claramente asimétrico por lo cual el t-test no resultaría adecuado. Como las formas distribucionales son diferentes tampoco es apropiado el test de Mann–Whitney–Wilcoxon."
   ]
  },
  {
   "cell_type": "code",
   "execution_count": 31,
   "metadata": {
    "vscode": {
     "languageId": "r"
    }
   },
   "outputs": [
    {
     "data": {
      "text/html": [
       "16"
      ],
      "text/latex": [
       "16"
      ],
      "text/markdown": [
       "16"
      ],
      "text/plain": [
       "[1] 16"
      ]
     },
     "metadata": {},
     "output_type": "display_data"
    },
    {
     "data": {
      "text/html": [
       "16"
      ],
      "text/latex": [
       "16"
      ],
      "text/markdown": [
       "16"
      ],
      "text/plain": [
       "[1] 16"
      ]
     },
     "metadata": {},
     "output_type": "display_data"
    },
    {
     "name": "stderr",
     "output_type": "stream",
     "text": [
      "Warning message in wilcox.test.default(tiempos1, tiempos2):\n",
      "\"cannot compute exact p-value with ties\"\n"
     ]
    },
    {
     "data": {
      "text/plain": [
       "\n",
       "\tWilcoxon rank sum test with continuity correction\n",
       "\n",
       "data:  tiempos1 and tiempos2\n",
       "W = 162, p-value = 0.042\n",
       "alternative hypothesis: true location shift is not equal to 0\n"
      ]
     },
     "metadata": {},
     "output_type": "display_data"
    }
   ],
   "source": [
    "# Calculamos la mediana de cada grupo y luego aplicamos la prueba de Mann Whitney-Wilcoxon\n",
    "median( tiempos1 )\n",
    "median( tiempos2 )\n",
    "wilcox.test( tiempos1, tiempos2 )"
   ]
  },
  {
   "cell_type": "code",
   "execution_count": 34,
   "metadata": {
    "vscode": {
     "languageId": "r"
    }
   },
   "outputs": [
    {
     "data": {
      "text/plain": [
       "\n",
       "Call: rq(formula = valor ~ tiempos, tau = 0.5, data = todos)\n",
       "\n",
       "tau: [1] 0.5\n",
       "\n",
       "Coefficients:\n",
       "            Value    Std. Error t value  Pr(>|t|)\n",
       "(Intercept) 16.00000 11.22531    1.42535  0.16511\n",
       "tiempos2     0.00000 12.62348    0.00000  1.00000"
      ]
     },
     "metadata": {},
     "output_type": "display_data"
    }
   ],
   "source": [
    "# Ajustamos un modelo de regresión para la mediana con la predictora categórica del grupo\n",
    "mod_q50 <- rq( valor ~ tiempos, tau = 0.5, data = todos )\n",
    "summary( mod_q50, se = 'boot')"
   ]
  },
  {
   "cell_type": "markdown",
   "metadata": {},
   "source": [
    "El resultado no muestra evidencias en contra de la hipótesis nula de que las medianas de ambos grupos son iguales. También puede observarse que la mediana de ambos grupos es la misma."
   ]
  }
 ],
 "metadata": {
  "kernelspec": {
   "display_name": "R",
   "language": "R",
   "name": "ir"
  },
  "language_info": {
   "codemirror_mode": "r",
   "file_extension": ".r",
   "mimetype": "text/x-r-source",
   "name": "R",
   "pygments_lexer": "r",
   "version": "4.2.3"
  },
  "orig_nbformat": 4
 },
 "nbformat": 4,
 "nbformat_minor": 2
}
